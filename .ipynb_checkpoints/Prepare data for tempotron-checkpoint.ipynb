{
 "cells": [
  {
   "cell_type": "code",
   "execution_count": 40,
   "metadata": {
    "ExecuteTime": {
     "end_time": "2020-07-20T11:49:59.615319Z",
     "start_time": "2020-07-20T11:49:59.609151Z"
    }
   },
   "outputs": [],
   "source": [
    "import pandas as pd\n",
    "import numpy as np\n",
    "\n",
    "import os\n",
    "import re\n",
    "from pathlib import Path\n",
    "from tqdm.auto import tqdm\n",
    "import shutil\n",
    "\n",
    "RANDOM_SEED = 90210"
   ]
  },
  {
   "cell_type": "code",
   "execution_count": 41,
   "metadata": {
    "ExecuteTime": {
     "end_time": "2020-07-20T11:50:00.229733Z",
     "start_time": "2020-07-20T11:50:00.104643Z"
    }
   },
   "outputs": [
    {
     "name": "stdout",
     "output_type": "stream",
     "text": [
      "class_labels_indices.csv  eval_segments_no_header.csv\r\n",
      "eval_segments.csv\t  eval_segments_tmp.csv\r\n"
     ]
    }
   ],
   "source": [
    "!ls *.csv"
   ]
  },
  {
   "cell_type": "code",
   "execution_count": 42,
   "metadata": {
    "ExecuteTime": {
     "end_time": "2020-07-20T11:50:00.523863Z",
     "start_time": "2020-07-20T11:50:00.505427Z"
    },
    "pycharm": {
     "is_executing": false
    }
   },
   "outputs": [
    {
     "data": {
      "text/html": [
       "<div>\n",
       "<style scoped>\n",
       "    .dataframe tbody tr th:only-of-type {\n",
       "        vertical-align: middle;\n",
       "    }\n",
       "\n",
       "    .dataframe tbody tr th {\n",
       "        vertical-align: top;\n",
       "    }\n",
       "\n",
       "    .dataframe thead th {\n",
       "        text-align: right;\n",
       "    }\n",
       "</style>\n",
       "<table border=\"1\" class=\"dataframe\">\n",
       "  <thead>\n",
       "    <tr style=\"text-align: right;\">\n",
       "      <th></th>\n",
       "      <th>mid</th>\n",
       "      <th>display_name</th>\n",
       "    </tr>\n",
       "    <tr>\n",
       "      <th>index</th>\n",
       "      <th></th>\n",
       "      <th></th>\n",
       "    </tr>\n",
       "  </thead>\n",
       "  <tbody>\n",
       "    <tr>\n",
       "      <th>0</th>\n",
       "      <td>/m/09x0r</td>\n",
       "      <td>Speech</td>\n",
       "    </tr>\n",
       "    <tr>\n",
       "      <th>1</th>\n",
       "      <td>/m/05zppz</td>\n",
       "      <td>Male speech, man speaking</td>\n",
       "    </tr>\n",
       "    <tr>\n",
       "      <th>2</th>\n",
       "      <td>/m/02zsn</td>\n",
       "      <td>Female speech, woman speaking</td>\n",
       "    </tr>\n",
       "    <tr>\n",
       "      <th>3</th>\n",
       "      <td>/m/0ytgt</td>\n",
       "      <td>Child speech, kid speaking</td>\n",
       "    </tr>\n",
       "    <tr>\n",
       "      <th>4</th>\n",
       "      <td>/m/01h8n0</td>\n",
       "      <td>Conversation</td>\n",
       "    </tr>\n",
       "  </tbody>\n",
       "</table>\n",
       "</div>"
      ],
      "text/plain": [
       "             mid                   display_name\n",
       "index                                          \n",
       "0       /m/09x0r                         Speech\n",
       "1      /m/05zppz      Male speech, man speaking\n",
       "2       /m/02zsn  Female speech, woman speaking\n",
       "3       /m/0ytgt     Child speech, kid speaking\n",
       "4      /m/01h8n0                   Conversation"
      ]
     },
     "execution_count": 42,
     "metadata": {},
     "output_type": "execute_result"
    }
   ],
   "source": [
    "df = pd.read_csv('class_labels_indices.csv', index_col='index')\n",
    "df.head()"
   ]
  },
  {
   "cell_type": "code",
   "execution_count": 43,
   "metadata": {
    "ExecuteTime": {
     "end_time": "2020-07-20T11:50:01.052060Z",
     "start_time": "2020-07-20T11:50:01.032699Z"
    },
    "pycharm": {
     "is_executing": false
    }
   },
   "outputs": [
    {
     "data": {
      "text/plain": [
       "{'/m/09x0r': 'Speech',\n",
       " '/m/05zppz': 'Male speech, man speaking',\n",
       " '/m/02zsn': 'Female speech, woman speaking',\n",
       " '/m/0ytgt': 'Child speech, kid speaking',\n",
       " '/m/01h8n0': 'Conversation',\n",
       " '/m/02qldy': 'Narration, monologue',\n",
       " '/m/0261r1': 'Babbling',\n",
       " '/m/0brhx': 'Speech synthesizer',\n",
       " '/m/07p6fty': 'Shout',\n",
       " '/m/07q4ntr': 'Bellow',\n",
       " '/m/07rwj3x': 'Whoop',\n",
       " '/m/07sr1lc': 'Yell',\n",
       " '/m/04gy_2': 'Battle cry',\n",
       " '/t/dd00135': 'Children shouting',\n",
       " '/m/03qc9zr': 'Screaming',\n",
       " '/m/02rtxlg': 'Whispering',\n",
       " '/m/01j3sz': 'Laughter',\n",
       " '/t/dd00001': 'Baby laughter',\n",
       " '/m/07r660_': 'Giggle',\n",
       " '/m/07s04w4': 'Snicker',\n",
       " '/m/07sq110': 'Belly laugh',\n",
       " '/m/07rgt08': 'Chuckle, chortle',\n",
       " '/m/0463cq4': 'Crying, sobbing',\n",
       " '/t/dd00002': 'Baby cry, infant cry',\n",
       " '/m/07qz6j3': 'Whimper',\n",
       " '/m/07qw_06': 'Wail, moan',\n",
       " '/m/07plz5l': 'Sigh',\n",
       " '/m/015lz1': 'Singing',\n",
       " '/m/0l14jd': 'Choir',\n",
       " '/m/01swy6': 'Yodeling',\n",
       " '/m/02bk07': 'Chant',\n",
       " '/m/01c194': 'Mantra',\n",
       " '/t/dd00003': 'Male singing',\n",
       " '/t/dd00004': 'Female singing',\n",
       " '/t/dd00005': 'Child singing',\n",
       " '/t/dd00006': 'Synthetic singing',\n",
       " '/m/06bxc': 'Rapping',\n",
       " '/m/02fxyj': 'Humming',\n",
       " '/m/07s2xch': 'Groan',\n",
       " '/m/07r4k75': 'Grunt',\n",
       " '/m/01w250': 'Whistling',\n",
       " '/m/0lyf6': 'Breathing',\n",
       " '/m/07mzm6': 'Wheeze',\n",
       " '/m/01d3sd': 'Snoring',\n",
       " '/m/07s0dtb': 'Gasp',\n",
       " '/m/07pyy8b': 'Pant',\n",
       " '/m/07q0yl5': 'Snort',\n",
       " '/m/01b_21': 'Cough',\n",
       " '/m/0dl9sf8': 'Throat clearing',\n",
       " '/m/01hsr_': 'Sneeze',\n",
       " '/m/07ppn3j': 'Sniff',\n",
       " '/m/06h7j': 'Run',\n",
       " '/m/07qv_x_': 'Shuffle',\n",
       " '/m/07pbtc8': 'Walk, footsteps',\n",
       " '/m/03cczk': 'Chewing, mastication',\n",
       " '/m/07pdhp0': 'Biting',\n",
       " '/m/0939n_': 'Gargling',\n",
       " '/m/01g90h': 'Stomach rumble',\n",
       " '/m/03q5_w': 'Burping, eructation',\n",
       " '/m/02p3nc': 'Hiccup',\n",
       " '/m/02_nn': 'Fart',\n",
       " '/m/0k65p': 'Hands',\n",
       " '/m/025_jnm': 'Finger snapping',\n",
       " '/m/0l15bq': 'Clapping',\n",
       " '/m/01jg02': 'Heart sounds, heartbeat',\n",
       " '/m/01jg1z': 'Heart murmur',\n",
       " '/m/053hz1': 'Cheering',\n",
       " '/m/028ght': 'Applause',\n",
       " '/m/07rkbfh': 'Chatter',\n",
       " '/m/03qtwd': 'Crowd',\n",
       " '/m/07qfr4h': 'Hubbub, speech noise, speech babble',\n",
       " '/t/dd00013': 'Children playing',\n",
       " '/m/0jbk': 'Animal',\n",
       " '/m/068hy': 'Domestic animals, pets',\n",
       " '/m/0bt9lr': 'Dog',\n",
       " '/m/05tny_': 'Bark',\n",
       " '/m/07r_k2n': 'Yip',\n",
       " '/m/07qf0zm': 'Howl',\n",
       " '/m/07rc7d9': 'Bow-wow',\n",
       " '/m/0ghcn6': 'Growling',\n",
       " '/t/dd00136': 'Whimper (dog)',\n",
       " '/m/01yrx': 'Cat',\n",
       " '/m/02yds9': 'Purr',\n",
       " '/m/07qrkrw': 'Meow',\n",
       " '/m/07rjwbb': 'Hiss',\n",
       " '/m/07r81j2': 'Caterwaul',\n",
       " '/m/0ch8v': 'Livestock, farm animals, working animals',\n",
       " '/m/03k3r': 'Horse',\n",
       " '/m/07rv9rh': 'Clip-clop',\n",
       " '/m/07q5rw0': 'Neigh, whinny',\n",
       " '/m/01xq0k1': 'Cattle, bovinae',\n",
       " '/m/07rpkh9': 'Moo',\n",
       " '/m/0239kh': 'Cowbell',\n",
       " '/m/068zj': 'Pig',\n",
       " '/t/dd00018': 'Oink',\n",
       " '/m/03fwl': 'Goat',\n",
       " '/m/07q0h5t': 'Bleat',\n",
       " '/m/07bgp': 'Sheep',\n",
       " '/m/025rv6n': 'Fowl',\n",
       " '/m/09b5t': 'Chicken, rooster',\n",
       " '/m/07st89h': 'Cluck',\n",
       " '/m/07qn5dc': 'Crowing, cock-a-doodle-doo',\n",
       " '/m/01rd7k': 'Turkey',\n",
       " '/m/07svc2k': 'Gobble',\n",
       " '/m/09ddx': 'Duck',\n",
       " '/m/07qdb04': 'Quack',\n",
       " '/m/0dbvp': 'Goose',\n",
       " '/m/07qwf61': 'Honk',\n",
       " '/m/01280g': 'Wild animals',\n",
       " '/m/0cdnk': 'Roaring cats (lions, tigers)',\n",
       " '/m/04cvmfc': 'Roar',\n",
       " '/m/015p6': 'Bird',\n",
       " '/m/020bb7': 'Bird vocalization, bird call, bird song',\n",
       " '/m/07pggtn': 'Chirp, tweet',\n",
       " '/m/07sx8x_': 'Squawk',\n",
       " '/m/0h0rv': 'Pigeon, dove',\n",
       " '/m/07r_25d': 'Coo',\n",
       " '/m/04s8yn': 'Crow',\n",
       " '/m/07r5c2p': 'Caw',\n",
       " '/m/09d5_': 'Owl',\n",
       " '/m/07r_80w': 'Hoot',\n",
       " '/m/05_wcq': 'Bird flight, flapping wings',\n",
       " '/m/01z5f': 'Canidae, dogs, wolves',\n",
       " '/m/06hps': 'Rodents, rats, mice',\n",
       " '/m/04rmv': 'Mouse',\n",
       " '/m/07r4gkf': 'Patter',\n",
       " '/m/03vt0': 'Insect',\n",
       " '/m/09xqv': 'Cricket',\n",
       " '/m/09f96': 'Mosquito',\n",
       " '/m/0h2mp': 'Fly, housefly',\n",
       " '/m/07pjwq1': 'Buzz',\n",
       " '/m/01h3n': 'Bee, wasp, etc.',\n",
       " '/m/09ld4': 'Frog',\n",
       " '/m/07st88b': 'Croak',\n",
       " '/m/078jl': 'Snake',\n",
       " '/m/07qn4z3': 'Rattle',\n",
       " '/m/032n05': 'Whale vocalization',\n",
       " '/m/04rlf': 'Music',\n",
       " '/m/04szw': 'Musical instrument',\n",
       " '/m/0fx80y': 'Plucked string instrument',\n",
       " '/m/0342h': 'Guitar',\n",
       " '/m/02sgy': 'Electric guitar',\n",
       " '/m/018vs': 'Bass guitar',\n",
       " '/m/042v_gx': 'Acoustic guitar',\n",
       " '/m/06w87': 'Steel guitar, slide guitar',\n",
       " '/m/01glhc': 'Tapping (guitar technique)',\n",
       " '/m/07s0s5r': 'Strum',\n",
       " '/m/018j2': 'Banjo',\n",
       " '/m/0jtg0': 'Sitar',\n",
       " '/m/04rzd': 'Mandolin',\n",
       " '/m/01bns_': 'Zither',\n",
       " '/m/07xzm': 'Ukulele',\n",
       " '/m/05148p4': 'Keyboard (musical)',\n",
       " '/m/05r5c': 'Piano',\n",
       " '/m/01s0ps': 'Electric piano',\n",
       " '/m/013y1f': 'Organ',\n",
       " '/m/03xq_f': 'Electronic organ',\n",
       " '/m/03gvt': 'Hammond organ',\n",
       " '/m/0l14qv': 'Synthesizer',\n",
       " '/m/01v1d8': 'Sampler',\n",
       " '/m/03q5t': 'Harpsichord',\n",
       " '/m/0l14md': 'Percussion',\n",
       " '/m/02hnl': 'Drum kit',\n",
       " '/m/0cfdd': 'Drum machine',\n",
       " '/m/026t6': 'Drum',\n",
       " '/m/06rvn': 'Snare drum',\n",
       " '/m/03t3fj': 'Rimshot',\n",
       " '/m/02k_mr': 'Drum roll',\n",
       " '/m/0bm02': 'Bass drum',\n",
       " '/m/011k_j': 'Timpani',\n",
       " '/m/01p970': 'Tabla',\n",
       " '/m/01qbl': 'Cymbal',\n",
       " '/m/03qtq': 'Hi-hat',\n",
       " '/m/01sm1g': 'Wood block',\n",
       " '/m/07brj': 'Tambourine',\n",
       " '/m/05r5wn': 'Rattle (instrument)',\n",
       " '/m/0xzly': 'Maraca',\n",
       " '/m/0mbct': 'Gong',\n",
       " '/m/016622': 'Tubular bells',\n",
       " '/m/0j45pbj': 'Mallet percussion',\n",
       " '/m/0dwsp': 'Marimba, xylophone',\n",
       " '/m/0dwtp': 'Glockenspiel',\n",
       " '/m/0dwt5': 'Vibraphone',\n",
       " '/m/0l156b': 'Steelpan',\n",
       " '/m/05pd6': 'Orchestra',\n",
       " '/m/01kcd': 'Brass instrument',\n",
       " '/m/0319l': 'French horn',\n",
       " '/m/07gql': 'Trumpet',\n",
       " '/m/07c6l': 'Trombone',\n",
       " '/m/0l14_3': 'Bowed string instrument',\n",
       " '/m/02qmj0d': 'String section',\n",
       " '/m/07y_7': 'Violin, fiddle',\n",
       " '/m/0d8_n': 'Pizzicato',\n",
       " '/m/01xqw': 'Cello',\n",
       " '/m/02fsn': 'Double bass',\n",
       " '/m/085jw': 'Wind instrument, woodwind instrument',\n",
       " '/m/0l14j_': 'Flute',\n",
       " '/m/06ncr': 'Saxophone',\n",
       " '/m/01wy6': 'Clarinet',\n",
       " '/m/03m5k': 'Harp',\n",
       " '/m/0395lw': 'Bell',\n",
       " '/m/03w41f': 'Church bell',\n",
       " '/m/027m70_': 'Jingle bell',\n",
       " '/m/0gy1t2s': 'Bicycle bell',\n",
       " '/m/07n_g': 'Tuning fork',\n",
       " '/m/0f8s22': 'Chime',\n",
       " '/m/026fgl': 'Wind chime',\n",
       " '/m/0150b9': 'Change ringing (campanology)',\n",
       " '/m/03qjg': 'Harmonica',\n",
       " '/m/0mkg': 'Accordion',\n",
       " '/m/0192l': 'Bagpipes',\n",
       " '/m/02bxd': 'Didgeridoo',\n",
       " '/m/0l14l2': 'Shofar',\n",
       " '/m/07kc_': 'Theremin',\n",
       " '/m/0l14t7': 'Singing bowl',\n",
       " '/m/01hgjl': 'Scratching (performance technique)',\n",
       " '/m/064t9': 'Pop music',\n",
       " '/m/0glt670': 'Hip hop music',\n",
       " '/m/02cz_7': 'Beatboxing',\n",
       " '/m/06by7': 'Rock music',\n",
       " '/m/03lty': 'Heavy metal',\n",
       " '/m/05r6t': 'Punk rock',\n",
       " '/m/0dls3': 'Grunge',\n",
       " '/m/0dl5d': 'Progressive rock',\n",
       " '/m/07sbbz2': 'Rock and roll',\n",
       " '/m/05w3f': 'Psychedelic rock',\n",
       " '/m/06j6l': 'Rhythm and blues',\n",
       " '/m/0gywn': 'Soul music',\n",
       " '/m/06cqb': 'Reggae',\n",
       " '/m/01lyv': 'Country',\n",
       " '/m/015y_n': 'Swing music',\n",
       " '/m/0gg8l': 'Bluegrass',\n",
       " '/m/02x8m': 'Funk',\n",
       " '/m/02w4v': 'Folk music',\n",
       " '/m/06j64v': 'Middle Eastern music',\n",
       " '/m/03_d0': 'Jazz',\n",
       " '/m/026z9': 'Disco',\n",
       " '/m/0ggq0m': 'Classical music',\n",
       " '/m/05lls': 'Opera',\n",
       " '/m/02lkt': 'Electronic music',\n",
       " '/m/03mb9': 'House music',\n",
       " '/m/07gxw': 'Techno',\n",
       " '/m/07s72n': 'Dubstep',\n",
       " '/m/0283d': 'Drum and bass',\n",
       " '/m/0m0jc': 'Electronica',\n",
       " '/m/08cyft': 'Electronic dance music',\n",
       " '/m/0fd3y': 'Ambient music',\n",
       " '/m/07lnk': 'Trance music',\n",
       " '/m/0g293': 'Music of Latin America',\n",
       " '/m/0ln16': 'Salsa music',\n",
       " '/m/0326g': 'Flamenco',\n",
       " '/m/0155w': 'Blues',\n",
       " '/m/05fw6t': 'Music for children',\n",
       " '/m/02v2lh': 'New-age music',\n",
       " '/m/0y4f8': 'Vocal music',\n",
       " '/m/0z9c': 'A capella',\n",
       " '/m/0164x2': 'Music of Africa',\n",
       " '/m/0145m': 'Afrobeat',\n",
       " '/m/02mscn': 'Christian music',\n",
       " '/m/016cjb': 'Gospel music',\n",
       " '/m/028sqc': 'Music of Asia',\n",
       " '/m/015vgc': 'Carnatic music',\n",
       " '/m/0dq0md': 'Music of Bollywood',\n",
       " '/m/06rqw': 'Ska',\n",
       " '/m/02p0sh1': 'Traditional music',\n",
       " '/m/05rwpb': 'Independent music',\n",
       " '/m/074ft': 'Song',\n",
       " '/m/025td0t': 'Background music',\n",
       " '/m/02cjck': 'Theme music',\n",
       " '/m/03r5q_': 'Jingle (music)',\n",
       " '/m/0l14gg': 'Soundtrack music',\n",
       " '/m/07pkxdp': 'Lullaby',\n",
       " '/m/01z7dr': 'Video game music',\n",
       " '/m/0140xf': 'Christmas music',\n",
       " '/m/0ggx5q': 'Dance music',\n",
       " '/m/04wptg': 'Wedding music',\n",
       " '/t/dd00031': 'Happy music',\n",
       " '/t/dd00032': 'Funny music',\n",
       " '/t/dd00033': 'Sad music',\n",
       " '/t/dd00034': 'Tender music',\n",
       " '/t/dd00035': 'Exciting music',\n",
       " '/t/dd00036': 'Angry music',\n",
       " '/t/dd00037': 'Scary music',\n",
       " '/m/03m9d0z': 'Wind',\n",
       " '/m/09t49': 'Rustling leaves',\n",
       " '/t/dd00092': 'Wind noise (microphone)',\n",
       " '/m/0jb2l': 'Thunderstorm',\n",
       " '/m/0ngt1': 'Thunder',\n",
       " '/m/0838f': 'Water',\n",
       " '/m/06mb1': 'Rain',\n",
       " '/m/07r10fb': 'Raindrop',\n",
       " '/t/dd00038': 'Rain on surface',\n",
       " '/m/0j6m2': 'Stream',\n",
       " '/m/0j2kx': 'Waterfall',\n",
       " '/m/05kq4': 'Ocean',\n",
       " '/m/034srq': 'Waves, surf',\n",
       " '/m/06wzb': 'Steam',\n",
       " '/m/07swgks': 'Gurgling',\n",
       " '/m/02_41': 'Fire',\n",
       " '/m/07pzfmf': 'Crackle',\n",
       " '/m/07yv9': 'Vehicle',\n",
       " '/m/019jd': 'Boat, Water vehicle',\n",
       " '/m/0hsrw': 'Sailboat, sailing ship',\n",
       " '/m/056ks2': 'Rowboat, canoe, kayak',\n",
       " '/m/02rlv9': 'Motorboat, speedboat',\n",
       " '/m/06q74': 'Ship',\n",
       " '/m/012f08': 'Motor vehicle (road)',\n",
       " '/m/0k4j': 'Car',\n",
       " '/m/0912c9': 'Vehicle horn, car horn, honking',\n",
       " '/m/07qv_d5': 'Toot',\n",
       " '/m/02mfyn': 'Car alarm',\n",
       " '/m/04gxbd': 'Power windows, electric windows',\n",
       " '/m/07rknqz': 'Skidding',\n",
       " '/m/0h9mv': 'Tire squeal',\n",
       " '/t/dd00134': 'Car passing by',\n",
       " '/m/0ltv': 'Race car, auto racing',\n",
       " '/m/07r04': 'Truck',\n",
       " '/m/0gvgw0': 'Air brake',\n",
       " '/m/05x_td': 'Air horn, truck horn',\n",
       " '/m/02rhddq': 'Reversing beeps',\n",
       " '/m/03cl9h': 'Ice cream truck, ice cream van',\n",
       " '/m/01bjv': 'Bus',\n",
       " '/m/03j1ly': 'Emergency vehicle',\n",
       " '/m/04qvtq': 'Police car (siren)',\n",
       " '/m/012n7d': 'Ambulance (siren)',\n",
       " '/m/012ndj': 'Fire engine, fire truck (siren)',\n",
       " '/m/04_sv': 'Motorcycle',\n",
       " '/m/0btp2': 'Traffic noise, roadway noise',\n",
       " '/m/06d_3': 'Rail transport',\n",
       " '/m/07jdr': 'Train',\n",
       " '/m/04zmvq': 'Train whistle',\n",
       " '/m/0284vy3': 'Train horn',\n",
       " '/m/01g50p': 'Railroad car, train wagon',\n",
       " '/t/dd00048': 'Train wheels squealing',\n",
       " '/m/0195fx': 'Subway, metro, underground',\n",
       " '/m/0k5j': 'Aircraft',\n",
       " '/m/014yck': 'Aircraft engine',\n",
       " '/m/04229': 'Jet engine',\n",
       " '/m/02l6bg': 'Propeller, airscrew',\n",
       " '/m/09ct_': 'Helicopter',\n",
       " '/m/0cmf2': 'Fixed-wing aircraft, airplane',\n",
       " '/m/0199g': 'Bicycle',\n",
       " '/m/06_fw': 'Skateboard',\n",
       " '/m/02mk9': 'Engine',\n",
       " '/t/dd00065': 'Light engine (high frequency)',\n",
       " '/m/08j51y': \"Dental drill, dentist's drill\",\n",
       " '/m/01yg9g': 'Lawn mower',\n",
       " '/m/01j4z9': 'Chainsaw',\n",
       " '/t/dd00066': 'Medium engine (mid frequency)',\n",
       " '/t/dd00067': 'Heavy engine (low frequency)',\n",
       " '/m/01h82_': 'Engine knocking',\n",
       " '/t/dd00130': 'Engine starting',\n",
       " '/m/07pb8fc': 'Idling',\n",
       " '/m/07q2z82': 'Accelerating, revving, vroom',\n",
       " '/m/02dgv': 'Door',\n",
       " '/m/03wwcy': 'Doorbell',\n",
       " '/m/07r67yg': 'Ding-dong',\n",
       " '/m/02y_763': 'Sliding door',\n",
       " '/m/07rjzl8': 'Slam',\n",
       " '/m/07r4wb8': 'Knock',\n",
       " '/m/07qcpgn': 'Tap',\n",
       " '/m/07q6cd_': 'Squeak',\n",
       " '/m/0642b4': 'Cupboard open or close',\n",
       " '/m/0fqfqc': 'Drawer open or close',\n",
       " '/m/04brg2': 'Dishes, pots, and pans',\n",
       " '/m/023pjk': 'Cutlery, silverware',\n",
       " '/m/07pn_8q': 'Chopping (food)',\n",
       " '/m/0dxrf': 'Frying (food)',\n",
       " '/m/0fx9l': 'Microwave oven',\n",
       " '/m/02pjr4': 'Blender',\n",
       " '/m/02jz0l': 'Water tap, faucet',\n",
       " '/m/0130jx': 'Sink (filling or washing)',\n",
       " '/m/03dnzn': 'Bathtub (filling or washing)',\n",
       " '/m/03wvsk': 'Hair dryer',\n",
       " '/m/01jt3m': 'Toilet flush',\n",
       " '/m/012xff': 'Toothbrush',\n",
       " '/m/04fgwm': 'Electric toothbrush',\n",
       " '/m/0d31p': 'Vacuum cleaner',\n",
       " '/m/01s0vc': 'Zipper (clothing)',\n",
       " '/m/03v3yw': 'Keys jangling',\n",
       " '/m/0242l': 'Coin (dropping)',\n",
       " '/m/01lsmm': 'Scissors',\n",
       " '/m/02g901': 'Electric shaver, electric razor',\n",
       " '/m/05rj2': 'Shuffling cards',\n",
       " '/m/0316dw': 'Typing',\n",
       " '/m/0c2wf': 'Typewriter',\n",
       " '/m/01m2v': 'Computer keyboard',\n",
       " '/m/081rb': 'Writing',\n",
       " '/m/07pp_mv': 'Alarm',\n",
       " '/m/07cx4': 'Telephone',\n",
       " '/m/07pp8cl': 'Telephone bell ringing',\n",
       " '/m/01hnzm': 'Ringtone',\n",
       " '/m/02c8p': 'Telephone dialing, DTMF',\n",
       " '/m/015jpf': 'Dial tone',\n",
       " '/m/01z47d': 'Busy signal',\n",
       " '/m/046dlr': 'Alarm clock',\n",
       " '/m/03kmc9': 'Siren',\n",
       " '/m/0dgbq': 'Civil defense siren',\n",
       " '/m/030rvx': 'Buzzer',\n",
       " '/m/01y3hg': 'Smoke detector, smoke alarm',\n",
       " '/m/0c3f7m': 'Fire alarm',\n",
       " '/m/04fq5q': 'Foghorn',\n",
       " '/m/0l156k': 'Whistle',\n",
       " '/m/06hck5': 'Steam whistle',\n",
       " '/t/dd00077': 'Mechanisms',\n",
       " '/m/02bm9n': 'Ratchet, pawl',\n",
       " '/m/01x3z': 'Clock',\n",
       " '/m/07qjznt': 'Tick',\n",
       " '/m/07qjznl': 'Tick-tock',\n",
       " '/m/0l7xg': 'Gears',\n",
       " '/m/05zc1': 'Pulleys',\n",
       " '/m/0llzx': 'Sewing machine',\n",
       " '/m/02x984l': 'Mechanical fan',\n",
       " '/m/025wky1': 'Air conditioning',\n",
       " '/m/024dl': 'Cash register',\n",
       " '/m/01m4t': 'Printer',\n",
       " '/m/0dv5r': 'Camera',\n",
       " '/m/07bjf': 'Single-lens reflex camera',\n",
       " '/m/07k1x': 'Tools',\n",
       " '/m/03l9g': 'Hammer',\n",
       " '/m/03p19w': 'Jackhammer',\n",
       " '/m/01b82r': 'Sawing',\n",
       " '/m/02p01q': 'Filing (rasp)',\n",
       " '/m/023vsd': 'Sanding',\n",
       " '/m/0_ksk': 'Power tool',\n",
       " '/m/01d380': 'Drill',\n",
       " '/m/014zdl': 'Explosion',\n",
       " '/m/032s66': 'Gunshot, gunfire',\n",
       " '/m/04zjc': 'Machine gun',\n",
       " '/m/02z32qm': 'Fusillade',\n",
       " '/m/0_1c': 'Artillery fire',\n",
       " '/m/073cg4': 'Cap gun',\n",
       " '/m/0g6b5': 'Fireworks',\n",
       " '/g/122z_qxw': 'Firecracker',\n",
       " '/m/07qsvvw': 'Burst, pop',\n",
       " '/m/07pxg6y': 'Eruption',\n",
       " '/m/07qqyl4': 'Boom',\n",
       " '/m/083vt': 'Wood',\n",
       " '/m/07pczhz': 'Chop',\n",
       " '/m/07pl1bw': 'Splinter',\n",
       " '/m/07qs1cx': 'Crack',\n",
       " '/m/039jq': 'Glass',\n",
       " '/m/07q7njn': 'Chink, clink',\n",
       " '/m/07rn7sz': 'Shatter',\n",
       " '/m/04k94': 'Liquid',\n",
       " '/m/07rrlb6': 'Splash, splatter',\n",
       " '/m/07p6mqd': 'Slosh',\n",
       " '/m/07qlwh6': 'Squish',\n",
       " '/m/07r5v4s': 'Drip',\n",
       " '/m/07prgkl': 'Pour',\n",
       " '/m/07pqc89': 'Trickle, dribble',\n",
       " '/t/dd00088': 'Gush',\n",
       " '/m/07p7b8y': 'Fill (with liquid)',\n",
       " '/m/07qlf79': 'Spray',\n",
       " '/m/07ptzwd': 'Pump (liquid)',\n",
       " '/m/07ptfmf': 'Stir',\n",
       " '/m/0dv3j': 'Boiling',\n",
       " '/m/0790c': 'Sonar',\n",
       " '/m/0dl83': 'Arrow',\n",
       " '/m/07rqsjt': 'Whoosh, swoosh, swish',\n",
       " '/m/07qnq_y': 'Thump, thud',\n",
       " '/m/07rrh0c': 'Thunk',\n",
       " '/m/0b_fwt': 'Electronic tuner',\n",
       " '/m/02rr_': 'Effects unit',\n",
       " '/m/07m2kt': 'Chorus effect',\n",
       " '/m/018w8': 'Basketball bounce',\n",
       " '/m/07pws3f': 'Bang',\n",
       " '/m/07ryjzk': 'Slap, smack',\n",
       " '/m/07rdhzs': 'Whack, thwack',\n",
       " '/m/07pjjrj': 'Smash, crash',\n",
       " '/m/07pc8lb': 'Breaking',\n",
       " '/m/07pqn27': 'Bouncing',\n",
       " '/m/07rbp7_': 'Whip',\n",
       " '/m/07pyf11': 'Flap',\n",
       " '/m/07qb_dv': 'Scratch',\n",
       " '/m/07qv4k0': 'Scrape',\n",
       " '/m/07pdjhy': 'Rub',\n",
       " '/m/07s8j8t': 'Roll',\n",
       " '/m/07plct2': 'Crushing',\n",
       " '/t/dd00112': 'Crumpling, crinkling',\n",
       " '/m/07qcx4z': 'Tearing',\n",
       " '/m/02fs_r': 'Beep, bleep',\n",
       " '/m/07qwdck': 'Ping',\n",
       " '/m/07phxs1': 'Ding',\n",
       " '/m/07rv4dm': 'Clang',\n",
       " '/m/07s02z0': 'Squeal',\n",
       " '/m/07qh7jl': 'Creak',\n",
       " '/m/07qwyj0': 'Rustle',\n",
       " '/m/07s34ls': 'Whir',\n",
       " '/m/07qmpdm': 'Clatter',\n",
       " '/m/07p9k1k': 'Sizzle',\n",
       " '/m/07qc9xj': 'Clicking',\n",
       " '/m/07rwm0c': 'Clickety-clack',\n",
       " '/m/07phhsh': 'Rumble',\n",
       " '/m/07qyrcz': 'Plop',\n",
       " '/m/07qfgpx': 'Jingle, tinkle',\n",
       " '/m/07rcgpl': 'Hum',\n",
       " '/m/07p78v5': 'Zing',\n",
       " '/t/dd00121': 'Boing',\n",
       " '/m/07s12q4': 'Crunch',\n",
       " '/m/028v0c': 'Silence',\n",
       " '/m/01v_m0': 'Sine wave',\n",
       " '/m/0b9m1': 'Harmonic',\n",
       " '/m/0hdsk': 'Chirp tone',\n",
       " '/m/0c1dj': 'Sound effect',\n",
       " '/m/07pt_g0': 'Pulse',\n",
       " '/t/dd00125': 'Inside, small room',\n",
       " '/t/dd00126': 'Inside, large room or hall',\n",
       " '/t/dd00127': 'Inside, public space',\n",
       " '/t/dd00128': 'Outside, urban or manmade',\n",
       " '/t/dd00129': 'Outside, rural or natural',\n",
       " '/m/01b9nn': 'Reverberation',\n",
       " '/m/01jnbd': 'Echo',\n",
       " '/m/096m7z': 'Noise',\n",
       " '/m/06_y0by': 'Environmental noise',\n",
       " '/m/07rgkc5': 'Static',\n",
       " '/m/06xkwv': 'Mains hum',\n",
       " '/m/0g12c5': 'Distortion',\n",
       " '/m/08p9q4': 'Sidetone',\n",
       " '/m/07szfh9': 'Cacophony',\n",
       " '/m/0chx_': 'White noise',\n",
       " '/m/0cj0r': 'Pink noise',\n",
       " '/m/07p_0gm': 'Throbbing',\n",
       " '/m/01jwx6': 'Vibration',\n",
       " '/m/07c52': 'Television',\n",
       " '/m/06bz3': 'Radio',\n",
       " '/m/07hvw1': 'Field recording'}"
      ]
     },
     "execution_count": 43,
     "metadata": {},
     "output_type": "execute_result"
    }
   ],
   "source": [
    "mid_lookup = {}\n",
    "for r in df.itertuples():\n",
    "    mid_lookup[r.mid] = r.display_name\n",
    "    \n",
    "mid_lookup"
   ]
  },
  {
   "cell_type": "code",
   "execution_count": 44,
   "metadata": {
    "ExecuteTime": {
     "end_time": "2020-07-20T11:50:01.946146Z",
     "start_time": "2020-07-20T11:50:01.756593Z"
    }
   },
   "outputs": [
    {
     "data": {
      "text/html": [
       "<div>\n",
       "<style scoped>\n",
       "    .dataframe tbody tr th:only-of-type {\n",
       "        vertical-align: middle;\n",
       "    }\n",
       "\n",
       "    .dataframe tbody tr th {\n",
       "        vertical-align: top;\n",
       "    }\n",
       "\n",
       "    .dataframe thead th {\n",
       "        text-align: right;\n",
       "    }\n",
       "</style>\n",
       "<table border=\"1\" class=\"dataframe\">\n",
       "  <thead>\n",
       "    <tr style=\"text-align: right;\">\n",
       "      <th></th>\n",
       "      <th>YTID</th>\n",
       "      <th>start_seconds</th>\n",
       "      <th>end_seconds</th>\n",
       "      <th>positive_labels</th>\n",
       "    </tr>\n",
       "  </thead>\n",
       "  <tbody>\n",
       "    <tr>\n",
       "      <th>0</th>\n",
       "      <td>--4gqARaEJE</td>\n",
       "      <td>0.0</td>\n",
       "      <td>10.0</td>\n",
       "      <td>/m/068hy,/m/07q6cd_,/m/0bt9lr,/m/0jbk</td>\n",
       "    </tr>\n",
       "    <tr>\n",
       "      <th>1</th>\n",
       "      <td>--BfvyPmVMo</td>\n",
       "      <td>20.0</td>\n",
       "      <td>30.0</td>\n",
       "      <td>/m/03l9g</td>\n",
       "    </tr>\n",
       "    <tr>\n",
       "      <th>2</th>\n",
       "      <td>--U7joUcTCo</td>\n",
       "      <td>0.0</td>\n",
       "      <td>10.0</td>\n",
       "      <td>/m/01b_21</td>\n",
       "    </tr>\n",
       "    <tr>\n",
       "      <th>3</th>\n",
       "      <td>--i-y1v8Hy8</td>\n",
       "      <td>0.0</td>\n",
       "      <td>9.0</td>\n",
       "      <td>/m/04rlf,/m/09x0r,/t/dd00004,/t/dd00005</td>\n",
       "    </tr>\n",
       "    <tr>\n",
       "      <th>4</th>\n",
       "      <td>-0BIyqJj9ZU</td>\n",
       "      <td>30.0</td>\n",
       "      <td>40.0</td>\n",
       "      <td>/m/07rgt08,/m/07sq110,/t/dd00001</td>\n",
       "    </tr>\n",
       "  </tbody>\n",
       "</table>\n",
       "</div>"
      ],
      "text/plain": [
       "          YTID  start_seconds  end_seconds  \\\n",
       "0  --4gqARaEJE            0.0         10.0   \n",
       "1  --BfvyPmVMo           20.0         30.0   \n",
       "2  --U7joUcTCo            0.0         10.0   \n",
       "3  --i-y1v8Hy8            0.0          9.0   \n",
       "4  -0BIyqJj9ZU           30.0         40.0   \n",
       "\n",
       "                           positive_labels  \n",
       "0    /m/068hy,/m/07q6cd_,/m/0bt9lr,/m/0jbk  \n",
       "1                                 /m/03l9g  \n",
       "2                                /m/01b_21  \n",
       "3  /m/04rlf,/m/09x0r,/t/dd00004,/t/dd00005  \n",
       "4         /m/07rgt08,/m/07sq110,/t/dd00001  "
      ]
     },
     "execution_count": 44,
     "metadata": {},
     "output_type": "execute_result"
    }
   ],
   "source": [
    "df_all = pd.read_csv('eval_segments.csv', skiprows=3, sep=',\\s+', names=['YTID', 'start_seconds', 'end_seconds', 'positive_labels'], header=None, engine='python').replace('\"','', regex=True)\n",
    "# df_all = pd.read_csv('balanced_train_segments.csv', skiprows=3, sep=',\\s+', names=['YTID', 'start_seconds', 'end_seconds', 'positive_labels'], header=None, engine='python').replace('\"','', regex=True)\n",
    "df_all.head()\n"
   ]
  },
  {
   "cell_type": "markdown",
   "metadata": {},
   "source": [
    "# Keep only existing files (Map to mat file)"
   ]
  },
  {
   "cell_type": "code",
   "execution_count": 45,
   "metadata": {
    "ExecuteTime": {
     "end_time": "2020-07-20T11:50:03.107827Z",
     "start_time": "2020-07-20T11:50:02.972501Z"
    }
   },
   "outputs": [
    {
     "name": "stdout",
     "output_type": "stream",
     "text": [
      "/datasets/spiking/Sound2spks/result_mats/16232_kuihSZXsIJ4.mat\r\n"
     ]
    }
   ],
   "source": [
    "ls /datasets/spiking/Sound2spks/result_mats/*kuihSZXsIJ4*.mat"
   ]
  },
  {
   "cell_type": "code",
   "execution_count": 46,
   "metadata": {
    "ExecuteTime": {
     "end_time": "2020-07-20T11:55:09.773395Z",
     "start_time": "2020-07-20T11:50:03.596529Z"
    }
   },
   "outputs": [
    {
     "data": {
      "application/vnd.jupyter.widget-view+json": {
       "model_id": "c72b444940cd4207a7ff7c704bfd4e53",
       "version_major": 2,
       "version_minor": 0
      },
      "text/plain": [
       "HBox(children=(IntProgress(value=0, max=20371), HTML(value='')))"
      ]
     },
     "metadata": {},
     "output_type": "display_data"
    },
    {
     "name": "stdout",
     "output_type": "stream",
     "text": [
      "\n",
      "7026\n",
      "(20371, 4)\n"
     ]
    }
   ],
   "source": [
    "files = []\n",
    "sizes = []\n",
    "missing = 0\n",
    "lst_exists = []\n",
    "for ix in tqdm(df_all.YTID):\n",
    "    exists = False\n",
    "#     print(ix)\n",
    "    rootdir = \"/datasets/spiking/Sound2spks/result_mats/\"\n",
    "#     rootdir = \"/datasets/spiking/Sound2spks/wav_data/\"\n",
    "    for path in Path(rootdir).glob(f'*_{ix}*.mat'):\n",
    "#         print(path)\n",
    "        exists = True\n",
    "        files.append(path.name)\n",
    "        sizes.append(path.stat().st_size/1024/1024) #Mbs\n",
    "        break\n",
    "\n",
    "    if not exists:\n",
    "#         print(ix, end=',')\n",
    "        missing = missing+1\n",
    "    \n",
    "    lst_exists.append(exists)\n",
    "\n",
    "# print()\n",
    "print(missing)\n",
    "print(df_all.shape)"
   ]
  },
  {
   "cell_type": "code",
   "execution_count": 47,
   "metadata": {
    "ExecuteTime": {
     "end_time": "2020-07-20T12:18:08.066014Z",
     "start_time": "2020-07-20T12:18:08.050405Z"
    }
   },
   "outputs": [
    {
     "data": {
      "text/plain": [
       "42.671417236328125"
      ]
     },
     "execution_count": 47,
     "metadata": {},
     "output_type": "execute_result"
    }
   ],
   "source": [
    "path.stat().st_size/1024/1024"
   ]
  },
  {
   "cell_type": "code",
   "execution_count": 48,
   "metadata": {
    "ExecuteTime": {
     "end_time": "2020-07-20T12:18:09.318522Z",
     "start_time": "2020-07-20T12:18:09.186389Z"
    },
    "pycharm": {
     "name": "#%%\n"
    }
   },
   "outputs": [
    {
     "data": {
      "text/plain": [
       "(13345, 6)"
      ]
     },
     "execution_count": 48,
     "metadata": {},
     "output_type": "execute_result"
    }
   ],
   "source": [
    "df_all = df_all[lst_exists]\n",
    "df_all['file'] = files\n",
    "df_all['size'] = sizes\n",
    "df_all.shape"
   ]
  },
  {
   "cell_type": "markdown",
   "metadata": {},
   "source": [
    "# Prepare for binary classification"
   ]
  },
  {
   "cell_type": "code",
   "execution_count": 49,
   "metadata": {
    "ExecuteTime": {
     "end_time": "2020-07-20T12:18:12.386942Z",
     "start_time": "2020-07-20T12:18:12.372727Z"
    }
   },
   "outputs": [
    {
     "data": {
      "text/html": [
       "<div>\n",
       "<style scoped>\n",
       "    .dataframe tbody tr th:only-of-type {\n",
       "        vertical-align: middle;\n",
       "    }\n",
       "\n",
       "    .dataframe tbody tr th {\n",
       "        vertical-align: top;\n",
       "    }\n",
       "\n",
       "    .dataframe thead th {\n",
       "        text-align: right;\n",
       "    }\n",
       "</style>\n",
       "<table border=\"1\" class=\"dataframe\">\n",
       "  <thead>\n",
       "    <tr style=\"text-align: right;\">\n",
       "      <th></th>\n",
       "      <th>YTID</th>\n",
       "      <th>start_seconds</th>\n",
       "      <th>end_seconds</th>\n",
       "      <th>positive_labels</th>\n",
       "      <th>file</th>\n",
       "      <th>size</th>\n",
       "    </tr>\n",
       "  </thead>\n",
       "  <tbody>\n",
       "    <tr>\n",
       "      <th>0</th>\n",
       "      <td>--4gqARaEJE</td>\n",
       "      <td>0.0</td>\n",
       "      <td>10.0</td>\n",
       "      <td>/m/068hy,/m/07q6cd_,/m/0bt9lr,/m/0jbk</td>\n",
       "      <td>0_--4gqARaEJE.mat</td>\n",
       "      <td>47.410202</td>\n",
       "    </tr>\n",
       "    <tr>\n",
       "      <th>1</th>\n",
       "      <td>--BfvyPmVMo</td>\n",
       "      <td>20.0</td>\n",
       "      <td>30.0</td>\n",
       "      <td>/m/03l9g</td>\n",
       "      <td>1_--BfvyPmVMo.mat</td>\n",
       "      <td>42.671417</td>\n",
       "    </tr>\n",
       "    <tr>\n",
       "      <th>2</th>\n",
       "      <td>--U7joUcTCo</td>\n",
       "      <td>0.0</td>\n",
       "      <td>10.0</td>\n",
       "      <td>/m/01b_21</td>\n",
       "      <td>2_--U7joUcTCo.mat</td>\n",
       "      <td>42.671417</td>\n",
       "    </tr>\n",
       "    <tr>\n",
       "      <th>3</th>\n",
       "      <td>--i-y1v8Hy8</td>\n",
       "      <td>0.0</td>\n",
       "      <td>9.0</td>\n",
       "      <td>/m/04rlf,/m/09x0r,/t/dd00004,/t/dd00005</td>\n",
       "      <td>3_--i-y1v8Hy8.mat</td>\n",
       "      <td>37.951828</td>\n",
       "    </tr>\n",
       "    <tr>\n",
       "      <th>4</th>\n",
       "      <td>-0BIyqJj9ZU</td>\n",
       "      <td>30.0</td>\n",
       "      <td>40.0</td>\n",
       "      <td>/m/07rgt08,/m/07sq110,/t/dd00001</td>\n",
       "      <td>4_-0BIyqJj9ZU.mat</td>\n",
       "      <td>47.410202</td>\n",
       "    </tr>\n",
       "  </tbody>\n",
       "</table>\n",
       "</div>"
      ],
      "text/plain": [
       "          YTID  start_seconds  end_seconds  \\\n",
       "0  --4gqARaEJE            0.0         10.0   \n",
       "1  --BfvyPmVMo           20.0         30.0   \n",
       "2  --U7joUcTCo            0.0         10.0   \n",
       "3  --i-y1v8Hy8            0.0          9.0   \n",
       "4  -0BIyqJj9ZU           30.0         40.0   \n",
       "\n",
       "                           positive_labels               file       size  \n",
       "0    /m/068hy,/m/07q6cd_,/m/0bt9lr,/m/0jbk  0_--4gqARaEJE.mat  47.410202  \n",
       "1                                 /m/03l9g  1_--BfvyPmVMo.mat  42.671417  \n",
       "2                                /m/01b_21  2_--U7joUcTCo.mat  42.671417  \n",
       "3  /m/04rlf,/m/09x0r,/t/dd00004,/t/dd00005  3_--i-y1v8Hy8.mat  37.951828  \n",
       "4         /m/07rgt08,/m/07sq110,/t/dd00001  4_-0BIyqJj9ZU.mat  47.410202  "
      ]
     },
     "execution_count": 49,
     "metadata": {},
     "output_type": "execute_result"
    }
   ],
   "source": [
    "df_all.head()"
   ]
  },
  {
   "cell_type": "code",
   "execution_count": 50,
   "metadata": {
    "ExecuteTime": {
     "end_time": "2020-07-20T12:18:15.104222Z",
     "start_time": "2020-07-20T12:18:14.486391Z"
    }
   },
   "outputs": [
    {
     "data": {
      "text/html": [
       "<div>\n",
       "<style scoped>\n",
       "    .dataframe tbody tr th:only-of-type {\n",
       "        vertical-align: middle;\n",
       "    }\n",
       "\n",
       "    .dataframe tbody tr th {\n",
       "        vertical-align: top;\n",
       "    }\n",
       "\n",
       "    .dataframe thead th {\n",
       "        text-align: right;\n",
       "    }\n",
       "</style>\n",
       "<table border=\"1\" class=\"dataframe\">\n",
       "  <thead>\n",
       "    <tr style=\"text-align: right;\">\n",
       "      <th></th>\n",
       "      <th>YTID</th>\n",
       "      <th>start_seconds</th>\n",
       "      <th>end_seconds</th>\n",
       "      <th>mid</th>\n",
       "      <th>file</th>\n",
       "      <th>size</th>\n",
       "      <th>annotation</th>\n",
       "    </tr>\n",
       "  </thead>\n",
       "  <tbody>\n",
       "    <tr>\n",
       "      <th>0</th>\n",
       "      <td>--4gqARaEJE</td>\n",
       "      <td>0.0</td>\n",
       "      <td>10.0</td>\n",
       "      <td>/m/068hy</td>\n",
       "      <td>0_--4gqARaEJE.mat</td>\n",
       "      <td>47.410202</td>\n",
       "      <td>Domestic animals, pets</td>\n",
       "    </tr>\n",
       "    <tr>\n",
       "      <th>0</th>\n",
       "      <td>--4gqARaEJE</td>\n",
       "      <td>0.0</td>\n",
       "      <td>10.0</td>\n",
       "      <td>/m/07q6cd_</td>\n",
       "      <td>0_--4gqARaEJE.mat</td>\n",
       "      <td>47.410202</td>\n",
       "      <td>Squeak</td>\n",
       "    </tr>\n",
       "    <tr>\n",
       "      <th>0</th>\n",
       "      <td>--4gqARaEJE</td>\n",
       "      <td>0.0</td>\n",
       "      <td>10.0</td>\n",
       "      <td>/m/0bt9lr</td>\n",
       "      <td>0_--4gqARaEJE.mat</td>\n",
       "      <td>47.410202</td>\n",
       "      <td>Dog</td>\n",
       "    </tr>\n",
       "    <tr>\n",
       "      <th>0</th>\n",
       "      <td>--4gqARaEJE</td>\n",
       "      <td>0.0</td>\n",
       "      <td>10.0</td>\n",
       "      <td>/m/0jbk</td>\n",
       "      <td>0_--4gqARaEJE.mat</td>\n",
       "      <td>47.410202</td>\n",
       "      <td>Animal</td>\n",
       "    </tr>\n",
       "    <tr>\n",
       "      <th>1</th>\n",
       "      <td>--BfvyPmVMo</td>\n",
       "      <td>20.0</td>\n",
       "      <td>30.0</td>\n",
       "      <td>/m/03l9g</td>\n",
       "      <td>1_--BfvyPmVMo.mat</td>\n",
       "      <td>42.671417</td>\n",
       "      <td>Hammer</td>\n",
       "    </tr>\n",
       "  </tbody>\n",
       "</table>\n",
       "</div>"
      ],
      "text/plain": [
       "          YTID  start_seconds  end_seconds         mid               file  \\\n",
       "0  --4gqARaEJE            0.0         10.0    /m/068hy  0_--4gqARaEJE.mat   \n",
       "0  --4gqARaEJE            0.0         10.0  /m/07q6cd_  0_--4gqARaEJE.mat   \n",
       "0  --4gqARaEJE            0.0         10.0   /m/0bt9lr  0_--4gqARaEJE.mat   \n",
       "0  --4gqARaEJE            0.0         10.0     /m/0jbk  0_--4gqARaEJE.mat   \n",
       "1  --BfvyPmVMo           20.0         30.0    /m/03l9g  1_--BfvyPmVMo.mat   \n",
       "\n",
       "        size              annotation  \n",
       "0  47.410202  Domestic animals, pets  \n",
       "0  47.410202                  Squeak  \n",
       "0  47.410202                     Dog  \n",
       "0  47.410202                  Animal  \n",
       "1  42.671417                  Hammer  "
      ]
     },
     "execution_count": 50,
     "metadata": {},
     "output_type": "execute_result"
    }
   ],
   "source": [
    "# https://stackoverflow.com/a/39946744/1640414\n",
    "def tidy_split(df, column, sep='|', keep=False):\n",
    "    \"\"\"\n",
    "    Split the values of a column and expand so the new DataFrame has one split\n",
    "    value per row. Filters rows where the column is missing.\n",
    "\n",
    "    Params\n",
    "    ------\n",
    "    df : pandas.DataFrame\n",
    "        dataframe with the column to split and expand\n",
    "    column : str\n",
    "        the column to split and expand\n",
    "    sep : str\n",
    "        the string used to split the column's values\n",
    "    keep : bool\n",
    "        whether to retain the presplit value as it's own row\n",
    "\n",
    "    Returns\n",
    "    -------\n",
    "    pandas.DataFrame\n",
    "        Returns a dataframe with the same columns as `df`.\n",
    "    \"\"\"\n",
    "    indexes = list()\n",
    "    new_values = list()\n",
    "    df = df.dropna(subset=[column])\n",
    "    for i, presplit in enumerate(df[column].astype(str)):\n",
    "        values = presplit.split(sep)\n",
    "        if keep and len(values) > 1:\n",
    "            indexes.append(i)\n",
    "            new_values.append(presplit)\n",
    "        for value in values:\n",
    "            indexes.append(i)\n",
    "            new_values.append(value)\n",
    "    new_df = df.iloc[indexes, :].copy()\n",
    "    new_df[column] = new_values\n",
    "    return new_df\n",
    "\n",
    "df_exploded = tidy_split(df_all, 'positive_labels', sep=',')\n",
    "df_exploded.rename(columns={'positive_labels': 'mid'}, inplace=True)\n",
    "df_exploded['annotation'] = df_exploded[\"mid\"].replace(mid_lookup, inplace=False)\n",
    "df_exploded.head()"
   ]
  },
  {
   "cell_type": "code",
   "execution_count": 51,
   "metadata": {
    "ExecuteTime": {
     "end_time": "2020-07-20T12:18:17.515613Z",
     "start_time": "2020-07-20T12:18:17.500249Z"
    }
   },
   "outputs": [
    {
     "data": {
      "text/plain": [
       "Music                                      3559\n",
       "Speech                                     3417\n",
       "Vehicle                                     507\n",
       "Animal                                      444\n",
       "Inside, small room                          379\n",
       "Musical instrument                          270\n",
       "Singing                                     228\n",
       "Domestic animals, pets                      222\n",
       "Water                                       201\n",
       "Guitar                                      194\n",
       "Car                                         187\n",
       "Percussion                                  177\n",
       "Wind instrument, woodwind instrument        173\n",
       "Boat, Water vehicle                         171\n",
       "Plucked string instrument                   166\n",
       "Bird                                        157\n",
       "Fowl                                        153\n",
       "Siren                                       146\n",
       "Brass instrument                            145\n",
       "Outside, urban or manmade                   139\n",
       "Dog                                         139\n",
       "Drum                                        138\n",
       "Outside, rural or natural                   138\n",
       "Child speech, kid speaking                  137\n",
       "Wind                                        128\n",
       "Rail transport                              127\n",
       "Train                                       126\n",
       "Engine                                      126\n",
       "Bird vocalization, bird call, bird song     126\n",
       "Railroad car, train wagon                   123\n",
       "                                           ... \n",
       "Middle Eastern music                         33\n",
       "Bleat                                        33\n",
       "Mouse                                        33\n",
       "Bang                                         33\n",
       "Sad music                                    32\n",
       "Whack, thwack                                32\n",
       "Howl                                         32\n",
       "Chewing, mastication                         32\n",
       "Psychedelic rock                             32\n",
       "Synthetic singing                            32\n",
       "Stomach rumble                               32\n",
       "Applause                                     32\n",
       "Flap                                         32\n",
       "Rhythm and blues                             31\n",
       "Reggae                                       31\n",
       "Mandolin                                     31\n",
       "Scrape                                       31\n",
       "Disco                                        31\n",
       "Zipper (clothing)                            31\n",
       "Gasp                                         30\n",
       "Hip hop music                                30\n",
       "Exciting music                               30\n",
       "Quack                                        30\n",
       "Splash, splatter                             30\n",
       "Rapping                                      30\n",
       "Telephone dialing, DTMF                      29\n",
       "Music of Bollywood                           29\n",
       "Pig                                          28\n",
       "Slap, smack                                  28\n",
       "Gargling                                     27\n",
       "Name: annotation, Length: 527, dtype: int64"
      ]
     },
     "execution_count": 51,
     "metadata": {},
     "output_type": "execute_result"
    }
   ],
   "source": [
    "df_exploded['annotation'].value_counts()"
   ]
  },
  {
   "cell_type": "code",
   "execution_count": 52,
   "metadata": {
    "ExecuteTime": {
     "end_time": "2020-07-20T12:18:20.973369Z",
     "start_time": "2020-07-20T12:18:20.947379Z"
    }
   },
   "outputs": [
    {
     "data": {
      "text/html": [
       "<div>\n",
       "<style scoped>\n",
       "    .dataframe tbody tr th:only-of-type {\n",
       "        vertical-align: middle;\n",
       "    }\n",
       "\n",
       "    .dataframe tbody tr th {\n",
       "        vertical-align: top;\n",
       "    }\n",
       "\n",
       "    .dataframe thead th {\n",
       "        text-align: right;\n",
       "    }\n",
       "</style>\n",
       "<table border=\"1\" class=\"dataframe\">\n",
       "  <thead>\n",
       "    <tr style=\"text-align: right;\">\n",
       "      <th></th>\n",
       "      <th>YTID</th>\n",
       "      <th>start_seconds</th>\n",
       "      <th>end_seconds</th>\n",
       "      <th>mid</th>\n",
       "      <th>file</th>\n",
       "      <th>size</th>\n",
       "      <th>annotation</th>\n",
       "    </tr>\n",
       "  </thead>\n",
       "  <tbody>\n",
       "    <tr>\n",
       "      <th>16</th>\n",
       "      <td>-1EXhfqLLwQ</td>\n",
       "      <td>150.0</td>\n",
       "      <td>160.0</td>\n",
       "      <td>/m/0838f</td>\n",
       "      <td>16_-1EXhfqLLwQ.mat</td>\n",
       "      <td>47.410202</td>\n",
       "      <td>Water</td>\n",
       "    </tr>\n",
       "    <tr>\n",
       "      <th>100</th>\n",
       "      <td>-DSNfC2EJhU</td>\n",
       "      <td>20.0</td>\n",
       "      <td>30.0</td>\n",
       "      <td>/m/0838f</td>\n",
       "      <td>100_-DSNfC2EJhU.mat</td>\n",
       "      <td>42.671417</td>\n",
       "      <td>Water</td>\n",
       "    </tr>\n",
       "    <tr>\n",
       "      <th>117</th>\n",
       "      <td>-Gr9P8Abnlk</td>\n",
       "      <td>110.0</td>\n",
       "      <td>120.0</td>\n",
       "      <td>/m/0838f</td>\n",
       "      <td>117_-Gr9P8Abnlk.mat</td>\n",
       "      <td>42.671417</td>\n",
       "      <td>Water</td>\n",
       "    </tr>\n",
       "    <tr>\n",
       "      <th>146</th>\n",
       "      <td>-NRx0SBMjo0</td>\n",
       "      <td>24.0</td>\n",
       "      <td>34.0</td>\n",
       "      <td>/m/0838f</td>\n",
       "      <td>146_-NRx0SBMjo0.mat</td>\n",
       "      <td>42.671417</td>\n",
       "      <td>Water</td>\n",
       "    </tr>\n",
       "    <tr>\n",
       "      <th>187</th>\n",
       "      <td>-UTdhK0lwuw</td>\n",
       "      <td>30.0</td>\n",
       "      <td>40.0</td>\n",
       "      <td>/m/0838f</td>\n",
       "      <td>187_-UTdhK0lwuw.mat</td>\n",
       "      <td>47.410202</td>\n",
       "      <td>Water</td>\n",
       "    </tr>\n",
       "    <tr>\n",
       "      <th>190</th>\n",
       "      <td>-V9U5F14AVY</td>\n",
       "      <td>40.0</td>\n",
       "      <td>50.0</td>\n",
       "      <td>/m/0838f</td>\n",
       "      <td>190_-V9U5F14AVY.mat</td>\n",
       "      <td>47.410202</td>\n",
       "      <td>Water</td>\n",
       "    </tr>\n",
       "    <tr>\n",
       "      <th>390</th>\n",
       "      <td>-zgGL2o1jqw</td>\n",
       "      <td>80.0</td>\n",
       "      <td>90.0</td>\n",
       "      <td>/m/0838f</td>\n",
       "      <td>390_-zgGL2o1jqw.mat</td>\n",
       "      <td>42.671417</td>\n",
       "      <td>Water</td>\n",
       "    </tr>\n",
       "    <tr>\n",
       "      <th>611</th>\n",
       "      <td>0W1sNicXboU</td>\n",
       "      <td>60.0</td>\n",
       "      <td>70.0</td>\n",
       "      <td>/m/0838f</td>\n",
       "      <td>611_0W1sNicXboU.mat</td>\n",
       "      <td>47.410202</td>\n",
       "      <td>Water</td>\n",
       "    </tr>\n",
       "    <tr>\n",
       "      <th>796</th>\n",
       "      <td>1009ux1xbkg</td>\n",
       "      <td>0.0</td>\n",
       "      <td>10.0</td>\n",
       "      <td>/m/0838f</td>\n",
       "      <td>796_1009ux1xbkg.mat</td>\n",
       "      <td>47.410202</td>\n",
       "      <td>Water</td>\n",
       "    </tr>\n",
       "    <tr>\n",
       "      <th>839</th>\n",
       "      <td>16vy6Lz8tkY</td>\n",
       "      <td>310.0</td>\n",
       "      <td>320.0</td>\n",
       "      <td>/m/0838f</td>\n",
       "      <td>839_16vy6Lz8tkY.mat</td>\n",
       "      <td>42.671417</td>\n",
       "      <td>Water</td>\n",
       "    </tr>\n",
       "  </tbody>\n",
       "</table>\n",
       "</div>"
      ],
      "text/plain": [
       "            YTID  start_seconds  end_seconds       mid                 file  \\\n",
       "16   -1EXhfqLLwQ          150.0        160.0  /m/0838f   16_-1EXhfqLLwQ.mat   \n",
       "100  -DSNfC2EJhU           20.0         30.0  /m/0838f  100_-DSNfC2EJhU.mat   \n",
       "117  -Gr9P8Abnlk          110.0        120.0  /m/0838f  117_-Gr9P8Abnlk.mat   \n",
       "146  -NRx0SBMjo0           24.0         34.0  /m/0838f  146_-NRx0SBMjo0.mat   \n",
       "187  -UTdhK0lwuw           30.0         40.0  /m/0838f  187_-UTdhK0lwuw.mat   \n",
       "190  -V9U5F14AVY           40.0         50.0  /m/0838f  190_-V9U5F14AVY.mat   \n",
       "390  -zgGL2o1jqw           80.0         90.0  /m/0838f  390_-zgGL2o1jqw.mat   \n",
       "611  0W1sNicXboU           60.0         70.0  /m/0838f  611_0W1sNicXboU.mat   \n",
       "796  1009ux1xbkg            0.0         10.0  /m/0838f  796_1009ux1xbkg.mat   \n",
       "839  16vy6Lz8tkY          310.0        320.0  /m/0838f  839_16vy6Lz8tkY.mat   \n",
       "\n",
       "          size annotation  \n",
       "16   47.410202      Water  \n",
       "100  42.671417      Water  \n",
       "117  42.671417      Water  \n",
       "146  42.671417      Water  \n",
       "187  47.410202      Water  \n",
       "190  47.410202      Water  \n",
       "390  42.671417      Water  \n",
       "611  47.410202      Water  \n",
       "796  47.410202      Water  \n",
       "839  42.671417      Water  "
      ]
     },
     "execution_count": 52,
     "metadata": {},
     "output_type": "execute_result"
    }
   ],
   "source": [
    "# df_binary = df_exploded[df_exploded['annotation'].isin(['Musical instrument'])]\n",
    "df_binary = df_exploded[df_exploded['annotation'].isin(['Water'])]\n",
    "df_binary.iloc[:10, :]"
   ]
  },
  {
   "cell_type": "code",
   "execution_count": 33,
   "metadata": {
    "ExecuteTime": {
     "end_time": "2020-07-20T11:39:01.384935Z",
     "start_time": "2020-07-20T11:38:51.233182Z"
    },
    "deletable": false,
    "editable": false,
    "run_control": {
     "frozen": true
    }
   },
   "outputs": [],
   "source": [
    "!paplay \"/datasets/spiking/Sound2spks/wav_data/796_1009ux1xbkg.wav\""
   ]
  },
  {
   "cell_type": "code",
   "execution_count": 53,
   "metadata": {
    "ExecuteTime": {
     "end_time": "2020-07-20T12:18:24.937330Z",
     "start_time": "2020-07-20T12:18:24.933276Z"
    }
   },
   "outputs": [],
   "source": [
    "CLASS0 = 'Water'\n",
    "CLASS1 = 'Musical instrument'"
   ]
  },
  {
   "cell_type": "code",
   "execution_count": 54,
   "metadata": {
    "ExecuteTime": {
     "end_time": "2020-07-20T12:18:25.587182Z",
     "start_time": "2020-07-20T12:18:25.565927Z"
    }
   },
   "outputs": [
    {
     "data": {
      "text/html": [
       "<div>\n",
       "<style scoped>\n",
       "    .dataframe tbody tr th:only-of-type {\n",
       "        vertical-align: middle;\n",
       "    }\n",
       "\n",
       "    .dataframe tbody tr th {\n",
       "        vertical-align: top;\n",
       "    }\n",
       "\n",
       "    .dataframe thead th {\n",
       "        text-align: right;\n",
       "    }\n",
       "</style>\n",
       "<table border=\"1\" class=\"dataframe\">\n",
       "  <thead>\n",
       "    <tr style=\"text-align: right;\">\n",
       "      <th></th>\n",
       "      <th>YTID</th>\n",
       "      <th>start_seconds</th>\n",
       "      <th>end_seconds</th>\n",
       "      <th>mid</th>\n",
       "      <th>file</th>\n",
       "      <th>size</th>\n",
       "      <th>annotation</th>\n",
       "    </tr>\n",
       "  </thead>\n",
       "  <tbody>\n",
       "    <tr>\n",
       "      <th>16</th>\n",
       "      <td>-1EXhfqLLwQ</td>\n",
       "      <td>150.0</td>\n",
       "      <td>160.0</td>\n",
       "      <td>/m/0838f</td>\n",
       "      <td>16_-1EXhfqLLwQ.mat</td>\n",
       "      <td>47.410202</td>\n",
       "      <td>Water</td>\n",
       "    </tr>\n",
       "    <tr>\n",
       "      <th>37</th>\n",
       "      <td>-3Kv4fdm7Uk</td>\n",
       "      <td>30.0</td>\n",
       "      <td>40.0</td>\n",
       "      <td>/m/04szw</td>\n",
       "      <td>37_-3Kv4fdm7Uk.mat</td>\n",
       "      <td>42.671417</td>\n",
       "      <td>Musical instrument</td>\n",
       "    </tr>\n",
       "    <tr>\n",
       "      <th>69</th>\n",
       "      <td>-8cgbhIR_pw</td>\n",
       "      <td>30.0</td>\n",
       "      <td>40.0</td>\n",
       "      <td>/m/04szw</td>\n",
       "      <td>69_-8cgbhIR_pw.mat</td>\n",
       "      <td>42.671417</td>\n",
       "      <td>Musical instrument</td>\n",
       "    </tr>\n",
       "    <tr>\n",
       "      <th>100</th>\n",
       "      <td>-DSNfC2EJhU</td>\n",
       "      <td>20.0</td>\n",
       "      <td>30.0</td>\n",
       "      <td>/m/0838f</td>\n",
       "      <td>100_-DSNfC2EJhU.mat</td>\n",
       "      <td>42.671417</td>\n",
       "      <td>Water</td>\n",
       "    </tr>\n",
       "    <tr>\n",
       "      <th>117</th>\n",
       "      <td>-Gr9P8Abnlk</td>\n",
       "      <td>110.0</td>\n",
       "      <td>120.0</td>\n",
       "      <td>/m/0838f</td>\n",
       "      <td>117_-Gr9P8Abnlk.mat</td>\n",
       "      <td>42.671417</td>\n",
       "      <td>Water</td>\n",
       "    </tr>\n",
       "  </tbody>\n",
       "</table>\n",
       "</div>"
      ],
      "text/plain": [
       "            YTID  start_seconds  end_seconds       mid                 file  \\\n",
       "16   -1EXhfqLLwQ          150.0        160.0  /m/0838f   16_-1EXhfqLLwQ.mat   \n",
       "37   -3Kv4fdm7Uk           30.0         40.0  /m/04szw   37_-3Kv4fdm7Uk.mat   \n",
       "69   -8cgbhIR_pw           30.0         40.0  /m/04szw   69_-8cgbhIR_pw.mat   \n",
       "100  -DSNfC2EJhU           20.0         30.0  /m/0838f  100_-DSNfC2EJhU.mat   \n",
       "117  -Gr9P8Abnlk          110.0        120.0  /m/0838f  117_-Gr9P8Abnlk.mat   \n",
       "\n",
       "          size          annotation  \n",
       "16   47.410202               Water  \n",
       "37   42.671417  Musical instrument  \n",
       "69   42.671417  Musical instrument  \n",
       "100  42.671417               Water  \n",
       "117  42.671417               Water  "
      ]
     },
     "execution_count": 54,
     "metadata": {},
     "output_type": "execute_result"
    }
   ],
   "source": [
    "df_binary = df_exploded[df_exploded['annotation'].isin(['Water', 'Musical instrument'])]\n",
    "df_binary.head()"
   ]
  },
  {
   "cell_type": "code",
   "execution_count": 55,
   "metadata": {
    "ExecuteTime": {
     "end_time": "2020-07-20T12:18:48.587735Z",
     "start_time": "2020-07-20T12:18:48.583889Z"
    }
   },
   "outputs": [
    {
     "data": {
      "text/plain": [
       "(471, 7)"
      ]
     },
     "execution_count": 55,
     "metadata": {},
     "output_type": "execute_result"
    }
   ],
   "source": [
    "df_binary.shape"
   ]
  },
  {
   "cell_type": "code",
   "execution_count": 56,
   "metadata": {
    "ExecuteTime": {
     "end_time": "2020-07-20T12:18:51.286827Z",
     "start_time": "2020-07-20T12:18:51.278756Z"
    }
   },
   "outputs": [
    {
     "data": {
      "text/plain": [
       "471"
      ]
     },
     "execution_count": 56,
     "metadata": {},
     "output_type": "execute_result"
    }
   ],
   "source": [
    "df_binary['YTID'].nunique()"
   ]
  },
  {
   "cell_type": "code",
   "execution_count": 57,
   "metadata": {
    "ExecuteTime": {
     "end_time": "2020-07-20T12:18:54.380409Z",
     "start_time": "2020-07-20T12:18:54.367617Z"
    }
   },
   "outputs": [
    {
     "data": {
      "text/plain": [
       "(471, 7)"
      ]
     },
     "execution_count": 57,
     "metadata": {},
     "output_type": "execute_result"
    }
   ],
   "source": [
    "df_binary = df_binary.drop_duplicates(subset=['YTID'], keep=False, inplace=False) #drop dups\n",
    "df_binary.shape"
   ]
  },
  {
   "cell_type": "code",
   "execution_count": 58,
   "metadata": {
    "ExecuteTime": {
     "end_time": "2020-07-20T12:18:57.347548Z",
     "start_time": "2020-07-20T12:18:57.340970Z"
    }
   },
   "outputs": [
    {
     "data": {
      "text/plain": [
       "Water                 201\n",
       "Musical instrument    270\n",
       "Name: annotation, dtype: int64"
      ]
     },
     "execution_count": 58,
     "metadata": {},
     "output_type": "execute_result"
    }
   ],
   "source": [
    "ser = df_binary['annotation'].value_counts()\n",
    "ser = ser.sort_values()\n",
    "total_small = ser.values[0]\n",
    "ser"
   ]
  },
  {
   "cell_type": "markdown",
   "metadata": {},
   "source": [
    "# Subsample according to small class"
   ]
  },
  {
   "cell_type": "code",
   "execution_count": 59,
   "metadata": {
    "ExecuteTime": {
     "end_time": "2020-07-20T12:19:00.364569Z",
     "start_time": "2020-07-20T12:19:00.347303Z"
    }
   },
   "outputs": [
    {
     "data": {
      "text/plain": [
       "Musical instrument    201\n",
       "Water                 201\n",
       "Name: annotation, dtype: int64"
      ]
     },
     "execution_count": 59,
     "metadata": {},
     "output_type": "execute_result"
    }
   ],
   "source": [
    "df_binary = pd.concat([df_binary[df_binary['annotation'] == CLASS0].sample(total_small, random_state=RANDOM_SEED), df_binary[df_binary['annotation'] == CLASS1].sample(total_small, random_state=RANDOM_SEED)])\n",
    "df_binary['annotation'].value_counts()"
   ]
  },
  {
   "cell_type": "code",
   "execution_count": 60,
   "metadata": {
    "ExecuteTime": {
     "end_time": "2020-07-20T12:19:05.152382Z",
     "start_time": "2020-07-20T12:19:05.133429Z"
    }
   },
   "outputs": [
    {
     "data": {
      "text/html": [
       "<div>\n",
       "<style scoped>\n",
       "    .dataframe tbody tr th:only-of-type {\n",
       "        vertical-align: middle;\n",
       "    }\n",
       "\n",
       "    .dataframe tbody tr th {\n",
       "        vertical-align: top;\n",
       "    }\n",
       "\n",
       "    .dataframe thead th {\n",
       "        text-align: right;\n",
       "    }\n",
       "</style>\n",
       "<table border=\"1\" class=\"dataframe\">\n",
       "  <thead>\n",
       "    <tr style=\"text-align: right;\">\n",
       "      <th></th>\n",
       "      <th>YTID</th>\n",
       "      <th>start_seconds</th>\n",
       "      <th>end_seconds</th>\n",
       "      <th>mid</th>\n",
       "      <th>file</th>\n",
       "      <th>size</th>\n",
       "      <th>annotation</th>\n",
       "      <th>label</th>\n",
       "    </tr>\n",
       "  </thead>\n",
       "  <tbody>\n",
       "    <tr>\n",
       "      <th>3657</th>\n",
       "      <td>9PdzaYwgQBE</td>\n",
       "      <td>30.0</td>\n",
       "      <td>40.0</td>\n",
       "      <td>/m/0838f</td>\n",
       "      <td>3657_9PdzaYwgQBE.mat</td>\n",
       "      <td>42.671417</td>\n",
       "      <td>Water</td>\n",
       "      <td>0</td>\n",
       "    </tr>\n",
       "    <tr>\n",
       "      <th>187</th>\n",
       "      <td>-UTdhK0lwuw</td>\n",
       "      <td>30.0</td>\n",
       "      <td>40.0</td>\n",
       "      <td>/m/0838f</td>\n",
       "      <td>187_-UTdhK0lwuw.mat</td>\n",
       "      <td>47.410202</td>\n",
       "      <td>Water</td>\n",
       "      <td>0</td>\n",
       "    </tr>\n",
       "    <tr>\n",
       "      <th>7497</th>\n",
       "      <td>Jlc4DETobHE</td>\n",
       "      <td>50.0</td>\n",
       "      <td>60.0</td>\n",
       "      <td>/m/0838f</td>\n",
       "      <td>7497_Jlc4DETobHE.mat</td>\n",
       "      <td>47.410202</td>\n",
       "      <td>Water</td>\n",
       "      <td>0</td>\n",
       "    </tr>\n",
       "    <tr>\n",
       "      <th>8582</th>\n",
       "      <td>N7MQjLZYJKc</td>\n",
       "      <td>10.0</td>\n",
       "      <td>20.0</td>\n",
       "      <td>/m/0838f</td>\n",
       "      <td>8582_N7MQjLZYJKc.mat</td>\n",
       "      <td>47.410202</td>\n",
       "      <td>Water</td>\n",
       "      <td>0</td>\n",
       "    </tr>\n",
       "    <tr>\n",
       "      <th>16571</th>\n",
       "      <td>m8JVAsG1vp0</td>\n",
       "      <td>40.0</td>\n",
       "      <td>50.0</td>\n",
       "      <td>/m/0838f</td>\n",
       "      <td>16571_m8JVAsG1vp0.mat</td>\n",
       "      <td>47.410202</td>\n",
       "      <td>Water</td>\n",
       "      <td>0</td>\n",
       "    </tr>\n",
       "  </tbody>\n",
       "</table>\n",
       "</div>"
      ],
      "text/plain": [
       "              YTID  start_seconds  end_seconds       mid  \\\n",
       "3657   9PdzaYwgQBE           30.0         40.0  /m/0838f   \n",
       "187    -UTdhK0lwuw           30.0         40.0  /m/0838f   \n",
       "7497   Jlc4DETobHE           50.0         60.0  /m/0838f   \n",
       "8582   N7MQjLZYJKc           10.0         20.0  /m/0838f   \n",
       "16571  m8JVAsG1vp0           40.0         50.0  /m/0838f   \n",
       "\n",
       "                        file       size annotation  label  \n",
       "3657    3657_9PdzaYwgQBE.mat  42.671417      Water      0  \n",
       "187      187_-UTdhK0lwuw.mat  47.410202      Water      0  \n",
       "7497    7497_Jlc4DETobHE.mat  47.410202      Water      0  \n",
       "8582    8582_N7MQjLZYJKc.mat  47.410202      Water      0  \n",
       "16571  16571_m8JVAsG1vp0.mat  47.410202      Water      0  "
      ]
     },
     "execution_count": 60,
     "metadata": {},
     "output_type": "execute_result"
    }
   ],
   "source": [
    "df_binary['label'] = df_binary['annotation'].map({CLASS0: 0, CLASS1: 1})\n",
    "df_binary.head()"
   ]
  },
  {
   "cell_type": "code",
   "execution_count": 61,
   "metadata": {
    "ExecuteTime": {
     "end_time": "2020-07-20T12:19:09.303191Z",
     "start_time": "2020-07-20T12:19:09.283961Z"
    }
   },
   "outputs": [
    {
     "data": {
      "text/html": [
       "<div>\n",
       "<style scoped>\n",
       "    .dataframe tbody tr th:only-of-type {\n",
       "        vertical-align: middle;\n",
       "    }\n",
       "\n",
       "    .dataframe tbody tr th {\n",
       "        vertical-align: top;\n",
       "    }\n",
       "\n",
       "    .dataframe thead th {\n",
       "        text-align: right;\n",
       "    }\n",
       "</style>\n",
       "<table border=\"1\" class=\"dataframe\">\n",
       "  <thead>\n",
       "    <tr style=\"text-align: right;\">\n",
       "      <th></th>\n",
       "      <th>start_seconds</th>\n",
       "      <th>end_seconds</th>\n",
       "      <th>mid</th>\n",
       "      <th>file</th>\n",
       "      <th>size</th>\n",
       "      <th>annotation</th>\n",
       "      <th>label</th>\n",
       "    </tr>\n",
       "    <tr>\n",
       "      <th>YTID</th>\n",
       "      <th></th>\n",
       "      <th></th>\n",
       "      <th></th>\n",
       "      <th></th>\n",
       "      <th></th>\n",
       "      <th></th>\n",
       "      <th></th>\n",
       "    </tr>\n",
       "  </thead>\n",
       "  <tbody>\n",
       "    <tr>\n",
       "      <th>9PdzaYwgQBE</th>\n",
       "      <td>30.0</td>\n",
       "      <td>40.0</td>\n",
       "      <td>/m/0838f</td>\n",
       "      <td>3657_9PdzaYwgQBE.mat</td>\n",
       "      <td>42.671417</td>\n",
       "      <td>Water</td>\n",
       "      <td>0</td>\n",
       "    </tr>\n",
       "    <tr>\n",
       "      <th>-UTdhK0lwuw</th>\n",
       "      <td>30.0</td>\n",
       "      <td>40.0</td>\n",
       "      <td>/m/0838f</td>\n",
       "      <td>187_-UTdhK0lwuw.mat</td>\n",
       "      <td>47.410202</td>\n",
       "      <td>Water</td>\n",
       "      <td>0</td>\n",
       "    </tr>\n",
       "    <tr>\n",
       "      <th>Jlc4DETobHE</th>\n",
       "      <td>50.0</td>\n",
       "      <td>60.0</td>\n",
       "      <td>/m/0838f</td>\n",
       "      <td>7497_Jlc4DETobHE.mat</td>\n",
       "      <td>47.410202</td>\n",
       "      <td>Water</td>\n",
       "      <td>0</td>\n",
       "    </tr>\n",
       "    <tr>\n",
       "      <th>N7MQjLZYJKc</th>\n",
       "      <td>10.0</td>\n",
       "      <td>20.0</td>\n",
       "      <td>/m/0838f</td>\n",
       "      <td>8582_N7MQjLZYJKc.mat</td>\n",
       "      <td>47.410202</td>\n",
       "      <td>Water</td>\n",
       "      <td>0</td>\n",
       "    </tr>\n",
       "    <tr>\n",
       "      <th>m8JVAsG1vp0</th>\n",
       "      <td>40.0</td>\n",
       "      <td>50.0</td>\n",
       "      <td>/m/0838f</td>\n",
       "      <td>16571_m8JVAsG1vp0.mat</td>\n",
       "      <td>47.410202</td>\n",
       "      <td>Water</td>\n",
       "      <td>0</td>\n",
       "    </tr>\n",
       "  </tbody>\n",
       "</table>\n",
       "</div>"
      ],
      "text/plain": [
       "             start_seconds  end_seconds       mid                   file  \\\n",
       "YTID                                                                       \n",
       "9PdzaYwgQBE           30.0         40.0  /m/0838f   3657_9PdzaYwgQBE.mat   \n",
       "-UTdhK0lwuw           30.0         40.0  /m/0838f    187_-UTdhK0lwuw.mat   \n",
       "Jlc4DETobHE           50.0         60.0  /m/0838f   7497_Jlc4DETobHE.mat   \n",
       "N7MQjLZYJKc           10.0         20.0  /m/0838f   8582_N7MQjLZYJKc.mat   \n",
       "m8JVAsG1vp0           40.0         50.0  /m/0838f  16571_m8JVAsG1vp0.mat   \n",
       "\n",
       "                  size annotation  label  \n",
       "YTID                                      \n",
       "9PdzaYwgQBE  42.671417      Water      0  \n",
       "-UTdhK0lwuw  47.410202      Water      0  \n",
       "Jlc4DETobHE  47.410202      Water      0  \n",
       "N7MQjLZYJKc  47.410202      Water      0  \n",
       "m8JVAsG1vp0  47.410202      Water      0  "
      ]
     },
     "execution_count": 61,
     "metadata": {},
     "output_type": "execute_result"
    }
   ],
   "source": [
    "df_binary.set_index('YTID', drop=True, inplace=True)\n",
    "df_binary.head()"
   ]
  },
  {
   "cell_type": "markdown",
   "metadata": {},
   "source": [
    "# Store only existing files dataset"
   ]
  },
  {
   "cell_type": "code",
   "execution_count": 62,
   "metadata": {
    "ExecuteTime": {
     "end_time": "2020-07-20T12:19:31.011637Z",
     "start_time": "2020-07-20T12:19:30.954325Z"
    }
   },
   "outputs": [],
   "source": [
    "# df_binary.to_csv('balanced_dataset_for_tempotron.v1.csv', index_label='YTID')\n",
    "# df_binary.to_csv('/datasets/spiking/Sound2spks/tempotron/eval_dataset_for_tempotron.v1.csv', index_label='YTID')\n",
    "df_binary.to_csv('/datasets/spiking/Sound2spks/tempotron/eval_dataset_for_tempotron.v2.csv', index_label='YTID')"
   ]
  },
  {
   "cell_type": "code",
   "execution_count": 63,
   "metadata": {
    "ExecuteTime": {
     "end_time": "2020-07-20T12:19:33.271249Z",
     "start_time": "2020-07-20T12:19:33.259842Z"
    }
   },
   "outputs": [
    {
     "data": {
      "text/plain": [
       "Musical instrument    201\n",
       "Water                 201\n",
       "Name: annotation, dtype: int64"
      ]
     },
     "execution_count": 63,
     "metadata": {},
     "output_type": "execute_result"
    }
   ],
   "source": [
    "df_binary['annotation'].value_counts()"
   ]
  },
  {
   "cell_type": "code",
   "execution_count": 64,
   "metadata": {
    "ExecuteTime": {
     "end_time": "2020-07-20T12:19:36.304715Z",
     "start_time": "2020-07-20T12:19:36.297385Z"
    }
   },
   "outputs": [
    {
     "data": {
      "text/plain": [
       "17.163724526762962"
      ]
     },
     "execution_count": 64,
     "metadata": {},
     "output_type": "execute_result"
    }
   ],
   "source": [
    "df_binary['size'].sum()/1024 #Gb"
   ]
  },
  {
   "cell_type": "markdown",
   "metadata": {},
   "source": [
    "# Copy to another dir"
   ]
  },
  {
   "cell_type": "code",
   "execution_count": 66,
   "metadata": {
    "ExecuteTime": {
     "end_time": "2020-07-20T12:26:15.557405Z",
     "start_time": "2020-07-20T12:21:00.924365Z"
    }
   },
   "outputs": [
    {
     "data": {
      "application/vnd.jupyter.widget-view+json": {
       "model_id": "c5859aa4b0964bf291970857b2cf7704",
       "version_major": 2,
       "version_minor": 0
      },
      "text/plain": [
       "HBox(children=(IntProgress(value=0, max=402), HTML(value='')))"
      ]
     },
     "metadata": {},
     "output_type": "display_data"
    },
    {
     "name": "stdout",
     "output_type": "stream",
     "text": [
      "\n"
     ]
    }
   ],
   "source": [
    "src_dir = \"/datasets/spiking/Sound2spks/result_mats/\"\n",
    "dest_dir = \"/datasets/spiking/Sound2spks/tempotron/raw/\"\n",
    "with tqdm(total=df_binary.shape[0]) as t:\n",
    "    for tup in df_binary.itertuples():\n",
    "        f = tup.file\n",
    "        label = tup.label\n",
    "        \n",
    "        t.set_description(f'{label}/{f}')\n",
    "        t.update()\n",
    "                \n",
    "#         print(f, end=\",\")\n",
    "        src = Path(src_dir, f)\n",
    "        dest = Path(dest_dir + str(label), f)\n",
    "        shutil.copyfile(src, dest)"
   ]
  },
  {
   "cell_type": "markdown",
   "metadata": {},
   "source": [
    "# Split into sets"
   ]
  },
  {
   "cell_type": "code",
   "execution_count": 67,
   "metadata": {
    "ExecuteTime": {
     "end_time": "2020-07-20T12:26:20.556727Z",
     "start_time": "2020-07-20T12:26:20.275445Z"
    }
   },
   "outputs": [
    {
     "data": {
      "text/html": [
       "<div>\n",
       "<style scoped>\n",
       "    .dataframe tbody tr th:only-of-type {\n",
       "        vertical-align: middle;\n",
       "    }\n",
       "\n",
       "    .dataframe tbody tr th {\n",
       "        vertical-align: top;\n",
       "    }\n",
       "\n",
       "    .dataframe thead th {\n",
       "        text-align: right;\n",
       "    }\n",
       "</style>\n",
       "<table border=\"1\" class=\"dataframe\">\n",
       "  <thead>\n",
       "    <tr style=\"text-align: right;\">\n",
       "      <th></th>\n",
       "      <th>start_seconds</th>\n",
       "      <th>end_seconds</th>\n",
       "      <th>mid</th>\n",
       "      <th>file</th>\n",
       "      <th>size</th>\n",
       "      <th>annotation</th>\n",
       "      <th>label</th>\n",
       "    </tr>\n",
       "    <tr>\n",
       "      <th>YTID</th>\n",
       "      <th></th>\n",
       "      <th></th>\n",
       "      <th></th>\n",
       "      <th></th>\n",
       "      <th></th>\n",
       "      <th></th>\n",
       "      <th></th>\n",
       "    </tr>\n",
       "  </thead>\n",
       "  <tbody>\n",
       "    <tr>\n",
       "      <th>9PdzaYwgQBE</th>\n",
       "      <td>30.0</td>\n",
       "      <td>40.0</td>\n",
       "      <td>/m/0838f</td>\n",
       "      <td>3657_9PdzaYwgQBE.mat</td>\n",
       "      <td>42.671417</td>\n",
       "      <td>Water</td>\n",
       "      <td>0</td>\n",
       "    </tr>\n",
       "    <tr>\n",
       "      <th>-UTdhK0lwuw</th>\n",
       "      <td>30.0</td>\n",
       "      <td>40.0</td>\n",
       "      <td>/m/0838f</td>\n",
       "      <td>187_-UTdhK0lwuw.mat</td>\n",
       "      <td>47.410202</td>\n",
       "      <td>Water</td>\n",
       "      <td>0</td>\n",
       "    </tr>\n",
       "    <tr>\n",
       "      <th>Jlc4DETobHE</th>\n",
       "      <td>50.0</td>\n",
       "      <td>60.0</td>\n",
       "      <td>/m/0838f</td>\n",
       "      <td>7497_Jlc4DETobHE.mat</td>\n",
       "      <td>47.410202</td>\n",
       "      <td>Water</td>\n",
       "      <td>0</td>\n",
       "    </tr>\n",
       "    <tr>\n",
       "      <th>N7MQjLZYJKc</th>\n",
       "      <td>10.0</td>\n",
       "      <td>20.0</td>\n",
       "      <td>/m/0838f</td>\n",
       "      <td>8582_N7MQjLZYJKc.mat</td>\n",
       "      <td>47.410202</td>\n",
       "      <td>Water</td>\n",
       "      <td>0</td>\n",
       "    </tr>\n",
       "    <tr>\n",
       "      <th>m8JVAsG1vp0</th>\n",
       "      <td>40.0</td>\n",
       "      <td>50.0</td>\n",
       "      <td>/m/0838f</td>\n",
       "      <td>16571_m8JVAsG1vp0.mat</td>\n",
       "      <td>47.410202</td>\n",
       "      <td>Water</td>\n",
       "      <td>0</td>\n",
       "    </tr>\n",
       "  </tbody>\n",
       "</table>\n",
       "</div>"
      ],
      "text/plain": [
       "             start_seconds  end_seconds       mid                   file  \\\n",
       "YTID                                                                       \n",
       "9PdzaYwgQBE           30.0         40.0  /m/0838f   3657_9PdzaYwgQBE.mat   \n",
       "-UTdhK0lwuw           30.0         40.0  /m/0838f    187_-UTdhK0lwuw.mat   \n",
       "Jlc4DETobHE           50.0         60.0  /m/0838f   7497_Jlc4DETobHE.mat   \n",
       "N7MQjLZYJKc           10.0         20.0  /m/0838f   8582_N7MQjLZYJKc.mat   \n",
       "m8JVAsG1vp0           40.0         50.0  /m/0838f  16571_m8JVAsG1vp0.mat   \n",
       "\n",
       "                  size annotation  label  \n",
       "YTID                                      \n",
       "9PdzaYwgQBE  42.671417      Water      0  \n",
       "-UTdhK0lwuw  47.410202      Water      0  \n",
       "Jlc4DETobHE  47.410202      Water      0  \n",
       "N7MQjLZYJKc  47.410202      Water      0  \n",
       "m8JVAsG1vp0  47.410202      Water      0  "
      ]
     },
     "execution_count": 67,
     "metadata": {},
     "output_type": "execute_result"
    }
   ],
   "source": [
    "# df_binary = pd.read_csv('/datasets/spiking/Sound2spks/tempotron/eval_dataset_for_tempotron.v1.csv', index_col='YTID')\n",
    "df_binary = pd.read_csv('/datasets/spiking/Sound2spks/tempotron/eval_dataset_for_tempotron.v2.csv', index_col='YTID')\n",
    "df_binary.head()"
   ]
  },
  {
   "cell_type": "code",
   "execution_count": 68,
   "metadata": {
    "ExecuteTime": {
     "end_time": "2020-07-20T12:28:10.885986Z",
     "start_time": "2020-07-20T12:28:10.880501Z"
    }
   },
   "outputs": [],
   "source": [
    "test_size = .2\n",
    "train_size = 1-test_size\n",
    "val_size = .15 #of train_size\n",
    "\n",
    "TRAIN_SET, VAL_SET, TEST_SET = 0, 1, 2"
   ]
  },
  {
   "cell_type": "code",
   "execution_count": 69,
   "metadata": {
    "ExecuteTime": {
     "end_time": "2020-07-20T12:28:11.505200Z",
     "start_time": "2020-07-20T12:28:11.500072Z"
    }
   },
   "outputs": [],
   "source": [
    "df_binary['set'] = TRAIN_SET;"
   ]
  },
  {
   "cell_type": "code",
   "execution_count": 70,
   "metadata": {
    "ExecuteTime": {
     "end_time": "2020-07-20T12:28:13.514628Z",
     "start_time": "2020-07-20T12:28:13.020986Z"
    }
   },
   "outputs": [
    {
     "name": "stderr",
     "output_type": "stream",
     "text": [
      "/home/shay/.virtualenvs/tempotron/lib/python3.6/site-packages/ipykernel_launcher.py:4: SettingWithCopyWarning: \n",
      "A value is trying to be set on a copy of a slice from a DataFrame\n",
      "\n",
      "See the caveats in the documentation: http://pandas.pydata.org/pandas-docs/stable/indexing.html#indexing-view-versus-copy\n",
      "  after removing the cwd from sys.path.\n"
     ]
    }
   ],
   "source": [
    "from sklearn.model_selection import StratifiedShuffleSplit\n",
    "sss = StratifiedShuffleSplit(n_splits=1, random_state=RANDOM_SEED, test_size=test_size)\n",
    "train_ix, test_ix = next(iter(sss.split(df_binary.index, df_binary['label'])))\n",
    "df_binary['set'][test_ix] = TEST_SET"
   ]
  },
  {
   "cell_type": "code",
   "execution_count": 71,
   "metadata": {
    "ExecuteTime": {
     "end_time": "2020-07-20T12:28:14.489830Z",
     "start_time": "2020-07-20T12:28:14.478368Z"
    }
   },
   "outputs": [
    {
     "data": {
      "text/plain": [
       "0    321\n",
       "2     81\n",
       "Name: set, dtype: int64"
      ]
     },
     "execution_count": 71,
     "metadata": {},
     "output_type": "execute_result"
    }
   ],
   "source": [
    "df_binary['set'].value_counts()"
   ]
  },
  {
   "cell_type": "code",
   "execution_count": 72,
   "metadata": {
    "ExecuteTime": {
     "end_time": "2020-07-20T12:28:16.961193Z",
     "start_time": "2020-07-20T12:28:16.642616Z"
    }
   },
   "outputs": [
    {
     "name": "stderr",
     "output_type": "stream",
     "text": [
      "/home/shay/.virtualenvs/tempotron/lib/python3.6/site-packages/ipykernel_launcher.py:4: SettingWithCopyWarning: \n",
      "A value is trying to be set on a copy of a slice from a DataFrame\n",
      "\n",
      "See the caveats in the documentation: http://pandas.pydata.org/pandas-docs/stable/indexing.html#indexing-view-versus-copy\n",
      "  after removing the cwd from sys.path.\n",
      "/home/shay/.virtualenvs/tempotron/lib/python3.6/site-packages/pandas/core/series.py:1035: SettingWithCopyWarning: \n",
      "A value is trying to be set on a copy of a slice from a DataFrame\n",
      "\n",
      "See the caveats in the documentation: http://pandas.pydata.org/pandas-docs/stable/indexing.html#indexing-view-versus-copy\n",
      "  self._set_with(key, value)\n",
      "/home/shay/.virtualenvs/tempotron/lib/python3.6/site-packages/IPython/core/interactiveshell.py:3296: SettingWithCopyWarning: \n",
      "A value is trying to be set on a copy of a slice from a DataFrame\n",
      "\n",
      "See the caveats in the documentation: http://pandas.pydata.org/pandas-docs/stable/indexing.html#indexing-view-versus-copy\n",
      "  exec(code_obj, self.user_global_ns, self.user_ns)\n"
     ]
    }
   ],
   "source": [
    "df_train = df_binary[df_binary['set'] == TRAIN_SET]\n",
    "sss = StratifiedShuffleSplit(n_splits=1, random_state=RANDOM_SEED, test_size=val_size)\n",
    "train_ix, test_ix = next(iter(sss.split(df_train.index, df_train['label'])))\n",
    "df_train['set'][test_ix] = VAL_SET"
   ]
  },
  {
   "cell_type": "code",
   "execution_count": 73,
   "metadata": {
    "ExecuteTime": {
     "end_time": "2020-07-20T12:28:18.043595Z",
     "start_time": "2020-07-20T12:28:18.032424Z"
    }
   },
   "outputs": [
    {
     "data": {
      "text/plain": [
       "0    272\n",
       "1     49\n",
       "Name: set, dtype: int64"
      ]
     },
     "execution_count": 73,
     "metadata": {},
     "output_type": "execute_result"
    }
   ],
   "source": [
    "df_train['set'].value_counts()"
   ]
  },
  {
   "cell_type": "code",
   "execution_count": 74,
   "metadata": {
    "ExecuteTime": {
     "end_time": "2020-07-20T12:28:19.228622Z",
     "start_time": "2020-07-20T12:28:19.102418Z"
    }
   },
   "outputs": [
    {
     "name": "stderr",
     "output_type": "stream",
     "text": [
      "/home/shay/.virtualenvs/tempotron/lib/python3.6/site-packages/pandas/core/indexing.py:190: SettingWithCopyWarning: \n",
      "A value is trying to be set on a copy of a slice from a DataFrame\n",
      "\n",
      "See the caveats in the documentation: http://pandas.pydata.org/pandas-docs/stable/indexing.html#indexing-view-versus-copy\n",
      "  self._setitem_with_indexer(indexer, value)\n"
     ]
    }
   ],
   "source": [
    "df_binary['set'].loc[df_train.index] = df_train['set']"
   ]
  },
  {
   "cell_type": "code",
   "execution_count": 75,
   "metadata": {
    "ExecuteTime": {
     "end_time": "2020-07-20T12:28:20.875927Z",
     "start_time": "2020-07-20T12:28:20.861756Z"
    }
   },
   "outputs": [
    {
     "data": {
      "text/plain": [
       "0    272\n",
       "2     81\n",
       "1     49\n",
       "Name: set, dtype: int64"
      ]
     },
     "execution_count": 75,
     "metadata": {},
     "output_type": "execute_result"
    }
   ],
   "source": [
    "\n",
    "ser = df_binary['set'].value_counts()\n",
    "\n",
    "assert np.isclose(ser[VAL_SET]/(ser[VAL_SET]+ser[TRAIN_SET]), val_size, atol=1e-2), ser[VAL_SET]/(ser[VAL_SET]+ser[TRAIN_SET])\n",
    "assert np.isclose(ser[TEST_SET]/(ser.sum()), test_size, atol=1e-2), ser[TEST_SET]/(ser.sum())\n",
    "\n",
    "ser"
   ]
  },
  {
   "cell_type": "code",
   "execution_count": 76,
   "metadata": {
    "ExecuteTime": {
     "end_time": "2020-07-20T12:28:22.775228Z",
     "start_time": "2020-07-20T12:28:22.741257Z"
    }
   },
   "outputs": [
    {
     "data": {
      "text/plain": [
       "label  set\n",
       "0      0      136\n",
       "       1       25\n",
       "       2       40\n",
       "1      0      136\n",
       "       1       24\n",
       "       2       41\n",
       "dtype: int64"
      ]
     },
     "execution_count": 76,
     "metadata": {},
     "output_type": "execute_result"
    }
   ],
   "source": [
    "#ensure stratified\n",
    "df_binary.groupby(['label', 'set']).size()"
   ]
  },
  {
   "cell_type": "code",
   "execution_count": 77,
   "metadata": {
    "ExecuteTime": {
     "end_time": "2020-07-20T12:28:33.640784Z",
     "start_time": "2020-07-20T12:28:33.627398Z"
    }
   },
   "outputs": [],
   "source": [
    "# df_binary.to_csv('/datasets/spiking/Sound2spks/tempotron/eval_dataset_for_tempotron.v1.csv', index_label='YTID')\n",
    "df_binary.to_csv('/datasets/spiking/Sound2spks/tempotron/eval_dataset_for_tempotron.v2.csv', index_label='YTID')"
   ]
  }
 ],
 "metadata": {
  "hide_input": false,
  "kernelspec": {
   "display_name": "Python 3",
   "language": "python",
   "name": "python3"
  },
  "language_info": {
   "codemirror_mode": {
    "name": "ipython",
    "version": 3
   },
   "file_extension": ".py",
   "mimetype": "text/x-python",
   "name": "python",
   "nbconvert_exporter": "python",
   "pygments_lexer": "ipython3",
   "version": "3.6.8"
  },
  "toc": {
   "base_numbering": 1,
   "nav_menu": {},
   "number_sections": true,
   "sideBar": true,
   "skip_h1_title": false,
   "title_cell": "Table of Contents",
   "title_sidebar": "Contents",
   "toc_cell": false,
   "toc_position": {},
   "toc_section_display": true,
   "toc_window_display": false
  }
 },
 "nbformat": 4,
 "nbformat_minor": 1
}
