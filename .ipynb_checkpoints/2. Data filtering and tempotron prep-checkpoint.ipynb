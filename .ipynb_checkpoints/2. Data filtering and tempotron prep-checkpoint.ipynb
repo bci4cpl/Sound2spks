{
 "cells": [
  {
   "cell_type": "markdown",
   "metadata": {},
   "source": [
    "Here, we filter the data by hearing to get better accuracy on tempotron"
   ]
  },
  {
   "cell_type": "code",
   "execution_count": 1,
   "metadata": {
    "ExecuteTime": {
     "end_time": "2020-07-28T13:31:58.621178Z",
     "start_time": "2020-07-28T13:31:58.254530Z"
    }
   },
   "outputs": [],
   "source": [
    "import pandas as pd\n",
    "import numpy as np\n",
    "\n",
    "import os\n",
    "import re\n",
    "from pathlib import Path\n",
    "from tqdm.auto import tqdm\n",
    "import shutil\n",
    "\n",
    "RANDOM_SEED = 90210"
   ]
  },
  {
   "cell_type": "code",
   "execution_count": 2,
   "metadata": {
    "ExecuteTime": {
     "end_time": "2020-07-28T13:31:58.719784Z",
     "start_time": "2020-07-28T13:31:58.687314Z"
    }
   },
   "outputs": [
    {
     "data": {
      "text/html": [
       "<div>\n",
       "<style scoped>\n",
       "    .dataframe tbody tr th:only-of-type {\n",
       "        vertical-align: middle;\n",
       "    }\n",
       "\n",
       "    .dataframe tbody tr th {\n",
       "        vertical-align: top;\n",
       "    }\n",
       "\n",
       "    .dataframe thead th {\n",
       "        text-align: right;\n",
       "    }\n",
       "</style>\n",
       "<table border=\"1\" class=\"dataframe\">\n",
       "  <thead>\n",
       "    <tr style=\"text-align: right;\">\n",
       "      <th></th>\n",
       "      <th>start_seconds</th>\n",
       "      <th>end_seconds</th>\n",
       "      <th>mid</th>\n",
       "      <th>file</th>\n",
       "      <th>size</th>\n",
       "      <th>annotation</th>\n",
       "      <th>label</th>\n",
       "      <th>set</th>\n",
       "    </tr>\n",
       "    <tr>\n",
       "      <th>YTID</th>\n",
       "      <th></th>\n",
       "      <th></th>\n",
       "      <th></th>\n",
       "      <th></th>\n",
       "      <th></th>\n",
       "      <th></th>\n",
       "      <th></th>\n",
       "      <th></th>\n",
       "    </tr>\n",
       "  </thead>\n",
       "  <tbody>\n",
       "    <tr>\n",
       "      <th>-UTdhK0lwuw</th>\n",
       "      <td>30.0</td>\n",
       "      <td>40.0</td>\n",
       "      <td>/m/0838f</td>\n",
       "      <td>187_-UTdhK0lwuw.mat</td>\n",
       "      <td>47.410202</td>\n",
       "      <td>Water</td>\n",
       "      <td>0</td>\n",
       "      <td>2</td>\n",
       "    </tr>\n",
       "    <tr>\n",
       "      <th>Jlc4DETobHE</th>\n",
       "      <td>50.0</td>\n",
       "      <td>60.0</td>\n",
       "      <td>/m/0838f</td>\n",
       "      <td>7497_Jlc4DETobHE.mat</td>\n",
       "      <td>47.410202</td>\n",
       "      <td>Water</td>\n",
       "      <td>0</td>\n",
       "      <td>2</td>\n",
       "    </tr>\n",
       "    <tr>\n",
       "      <th>N7MQjLZYJKc</th>\n",
       "      <td>10.0</td>\n",
       "      <td>20.0</td>\n",
       "      <td>/m/0838f</td>\n",
       "      <td>8582_N7MQjLZYJKc.mat</td>\n",
       "      <td>47.410202</td>\n",
       "      <td>Water</td>\n",
       "      <td>0</td>\n",
       "      <td>1</td>\n",
       "    </tr>\n",
       "    <tr>\n",
       "      <th>m8JVAsG1vp0</th>\n",
       "      <td>40.0</td>\n",
       "      <td>50.0</td>\n",
       "      <td>/m/0838f</td>\n",
       "      <td>16571_m8JVAsG1vp0.mat</td>\n",
       "      <td>47.410202</td>\n",
       "      <td>Water</td>\n",
       "      <td>0</td>\n",
       "      <td>1</td>\n",
       "    </tr>\n",
       "    <tr>\n",
       "      <th>5gFmWJBNd9o</th>\n",
       "      <td>560.0</td>\n",
       "      <td>570.0</td>\n",
       "      <td>/m/0838f</td>\n",
       "      <td>2446_5gFmWJBNd9o.mat</td>\n",
       "      <td>47.410202</td>\n",
       "      <td>Water</td>\n",
       "      <td>0</td>\n",
       "      <td>2</td>\n",
       "    </tr>\n",
       "  </tbody>\n",
       "</table>\n",
       "</div>"
      ],
      "text/plain": [
       "             start_seconds  end_seconds       mid                   file  \\\n",
       "YTID                                                                       \n",
       "-UTdhK0lwuw           30.0         40.0  /m/0838f    187_-UTdhK0lwuw.mat   \n",
       "Jlc4DETobHE           50.0         60.0  /m/0838f   7497_Jlc4DETobHE.mat   \n",
       "N7MQjLZYJKc           10.0         20.0  /m/0838f   8582_N7MQjLZYJKc.mat   \n",
       "m8JVAsG1vp0           40.0         50.0  /m/0838f  16571_m8JVAsG1vp0.mat   \n",
       "5gFmWJBNd9o          560.0        570.0  /m/0838f   2446_5gFmWJBNd9o.mat   \n",
       "\n",
       "                  size annotation  label  set  \n",
       "YTID                                           \n",
       "-UTdhK0lwuw  47.410202      Water      0    2  \n",
       "Jlc4DETobHE  47.410202      Water      0    2  \n",
       "N7MQjLZYJKc  47.410202      Water      0    1  \n",
       "m8JVAsG1vp0  47.410202      Water      0    1  \n",
       "5gFmWJBNd9o  47.410202      Water      0    2  "
      ]
     },
     "execution_count": 2,
     "metadata": {},
     "output_type": "execute_result"
    }
   ],
   "source": [
    "df_binary = pd.read_csv('/datasets/spiking/Sound2spks/tempotron/eval_dataset_for_tempotron.v3.csv', index_col='YTID')\n",
    "df_binary.head()"
   ]
  },
  {
   "cell_type": "markdown",
   "metadata": {},
   "source": [
    "# Label 0: water"
   ]
  },
  {
   "cell_type": "code",
   "execution_count": 70,
   "metadata": {
    "ExecuteTime": {
     "end_time": "2020-07-26T08:33:47.864903Z",
     "start_time": "2020-07-26T08:33:47.844663Z"
    }
   },
   "outputs": [
    {
     "data": {
      "text/html": [
       "<div>\n",
       "<style scoped>\n",
       "    .dataframe tbody tr th:only-of-type {\n",
       "        vertical-align: middle;\n",
       "    }\n",
       "\n",
       "    .dataframe tbody tr th {\n",
       "        vertical-align: top;\n",
       "    }\n",
       "\n",
       "    .dataframe thead th {\n",
       "        text-align: right;\n",
       "    }\n",
       "</style>\n",
       "<table border=\"1\" class=\"dataframe\">\n",
       "  <thead>\n",
       "    <tr style=\"text-align: right;\">\n",
       "      <th></th>\n",
       "      <th>start_seconds</th>\n",
       "      <th>end_seconds</th>\n",
       "      <th>mid</th>\n",
       "      <th>file</th>\n",
       "      <th>size</th>\n",
       "      <th>annotation</th>\n",
       "      <th>label</th>\n",
       "      <th>set</th>\n",
       "    </tr>\n",
       "    <tr>\n",
       "      <th>YTID</th>\n",
       "      <th></th>\n",
       "      <th></th>\n",
       "      <th></th>\n",
       "      <th></th>\n",
       "      <th></th>\n",
       "      <th></th>\n",
       "      <th></th>\n",
       "      <th></th>\n",
       "    </tr>\n",
       "  </thead>\n",
       "  <tbody>\n",
       "    <tr>\n",
       "      <th>9PdzaYwgQBE</th>\n",
       "      <td>30.0</td>\n",
       "      <td>40.0</td>\n",
       "      <td>/m/0838f</td>\n",
       "      <td>3657_9PdzaYwgQBE.mat</td>\n",
       "      <td>42.671417</td>\n",
       "      <td>Water</td>\n",
       "      <td>0</td>\n",
       "      <td>0</td>\n",
       "    </tr>\n",
       "    <tr>\n",
       "      <th>-UTdhK0lwuw</th>\n",
       "      <td>30.0</td>\n",
       "      <td>40.0</td>\n",
       "      <td>/m/0838f</td>\n",
       "      <td>187_-UTdhK0lwuw.mat</td>\n",
       "      <td>47.410202</td>\n",
       "      <td>Water</td>\n",
       "      <td>0</td>\n",
       "      <td>2</td>\n",
       "    </tr>\n",
       "    <tr>\n",
       "      <th>Jlc4DETobHE</th>\n",
       "      <td>50.0</td>\n",
       "      <td>60.0</td>\n",
       "      <td>/m/0838f</td>\n",
       "      <td>7497_Jlc4DETobHE.mat</td>\n",
       "      <td>47.410202</td>\n",
       "      <td>Water</td>\n",
       "      <td>0</td>\n",
       "      <td>2</td>\n",
       "    </tr>\n",
       "    <tr>\n",
       "      <th>N7MQjLZYJKc</th>\n",
       "      <td>10.0</td>\n",
       "      <td>20.0</td>\n",
       "      <td>/m/0838f</td>\n",
       "      <td>8582_N7MQjLZYJKc.mat</td>\n",
       "      <td>47.410202</td>\n",
       "      <td>Water</td>\n",
       "      <td>0</td>\n",
       "      <td>1</td>\n",
       "    </tr>\n",
       "    <tr>\n",
       "      <th>m8JVAsG1vp0</th>\n",
       "      <td>40.0</td>\n",
       "      <td>50.0</td>\n",
       "      <td>/m/0838f</td>\n",
       "      <td>16571_m8JVAsG1vp0.mat</td>\n",
       "      <td>47.410202</td>\n",
       "      <td>Water</td>\n",
       "      <td>0</td>\n",
       "      <td>1</td>\n",
       "    </tr>\n",
       "  </tbody>\n",
       "</table>\n",
       "</div>"
      ],
      "text/plain": [
       "             start_seconds  end_seconds       mid                   file  \\\n",
       "YTID                                                                       \n",
       "9PdzaYwgQBE           30.0         40.0  /m/0838f   3657_9PdzaYwgQBE.mat   \n",
       "-UTdhK0lwuw           30.0         40.0  /m/0838f    187_-UTdhK0lwuw.mat   \n",
       "Jlc4DETobHE           50.0         60.0  /m/0838f   7497_Jlc4DETobHE.mat   \n",
       "N7MQjLZYJKc           10.0         20.0  /m/0838f   8582_N7MQjLZYJKc.mat   \n",
       "m8JVAsG1vp0           40.0         50.0  /m/0838f  16571_m8JVAsG1vp0.mat   \n",
       "\n",
       "                  size annotation  label  set  \n",
       "YTID                                           \n",
       "9PdzaYwgQBE  42.671417      Water      0    0  \n",
       "-UTdhK0lwuw  47.410202      Water      0    2  \n",
       "Jlc4DETobHE  47.410202      Water      0    2  \n",
       "N7MQjLZYJKc  47.410202      Water      0    1  \n",
       "m8JVAsG1vp0  47.410202      Water      0    1  "
      ]
     },
     "execution_count": 70,
     "metadata": {},
     "output_type": "execute_result"
    }
   ],
   "source": [
    "df_label0 = df_binary[df_binary.label==0]\n",
    "df_label0.head()"
   ]
  },
  {
   "cell_type": "markdown",
   "metadata": {
    "ExecuteTime": {
     "end_time": "2020-07-26T08:32:50.824822Z",
     "start_time": "2020-07-26T08:32:50.822320Z"
    }
   },
   "source": [
    "## Write m3u8 playlist"
   ]
  },
  {
   "cell_type": "code",
   "execution_count": 71,
   "metadata": {
    "ExecuteTime": {
     "end_time": "2020-07-26T08:33:49.431143Z",
     "start_time": "2020-07-26T08:33:49.417731Z"
    }
   },
   "outputs": [],
   "source": [
    "with open(\"Out/label0.m3u8\", \"w\") as w: \n",
    "    w.write(\"#EXTM3U\\n\") \n",
    "    \n",
    "    WAV_PATH = '/datasets/spiking/Sound2spks/wav_data'\n",
    "    for i, r in enumerate(df_label0.itertuples()):\n",
    "    #     print(r)\n",
    "    #     print(r.file)\n",
    "\n",
    "        filename = os.path.splitext(r.file)[0] + '.wav'\n",
    "        fullpath = os.path.join(WAV_PATH, filename)\n",
    "        assert os.path.exists(fullpath), filename\n",
    "\n",
    "        # Writing data to a file \n",
    "        w.write(f\"#EXTINF:10,{filename}\\n\") \n",
    "        w.write(f\"{fullpath}\\n\") "
   ]
  },
  {
   "cell_type": "markdown",
   "metadata": {
    "ExecuteTime": {
     "end_time": "2020-07-26T08:32:50.824822Z",
     "start_time": "2020-07-26T08:32:50.822320Z"
    }
   },
   "source": [
    "## Read filtered m3u8 playlist"
   ]
  },
  {
   "cell_type": "code",
   "execution_count": 80,
   "metadata": {
    "ExecuteTime": {
     "end_time": "2020-07-26T09:04:07.054112Z",
     "start_time": "2020-07-26T09:04:07.043680Z"
    }
   },
   "outputs": [
    {
     "name": "stdout",
     "output_type": "stream",
     "text": [
      "(201, 8) 132\n"
     ]
    }
   ],
   "source": [
    "with open('Out/label0_filtered_v1.m3u8', 'r') as r:\n",
    "        lines = r.readlines()[1:]\n",
    "        lines = lines[1::2]\n",
    "ixs0 = []\n",
    "for r in lines:\n",
    "    YTID = os.path.splitext('_'.join(os.path.basename(r).split('_')[1:]))[0]\n",
    "#     print(YTID)\n",
    "    ixs0.append(YTID)\n",
    "    \n",
    "print(df_label0.shape, len(ixs0))"
   ]
  },
  {
   "cell_type": "markdown",
   "metadata": {},
   "source": [
    "# Label 1: musical instruments"
   ]
  },
  {
   "cell_type": "code",
   "execution_count": 86,
   "metadata": {
    "ExecuteTime": {
     "end_time": "2020-07-26T09:07:08.642084Z",
     "start_time": "2020-07-26T09:07:08.623868Z"
    }
   },
   "outputs": [
    {
     "data": {
      "text/html": [
       "<div>\n",
       "<style scoped>\n",
       "    .dataframe tbody tr th:only-of-type {\n",
       "        vertical-align: middle;\n",
       "    }\n",
       "\n",
       "    .dataframe tbody tr th {\n",
       "        vertical-align: top;\n",
       "    }\n",
       "\n",
       "    .dataframe thead th {\n",
       "        text-align: right;\n",
       "    }\n",
       "</style>\n",
       "<table border=\"1\" class=\"dataframe\">\n",
       "  <thead>\n",
       "    <tr style=\"text-align: right;\">\n",
       "      <th></th>\n",
       "      <th>start_seconds</th>\n",
       "      <th>end_seconds</th>\n",
       "      <th>mid</th>\n",
       "      <th>file</th>\n",
       "      <th>size</th>\n",
       "      <th>annotation</th>\n",
       "      <th>label</th>\n",
       "      <th>set</th>\n",
       "    </tr>\n",
       "    <tr>\n",
       "      <th>YTID</th>\n",
       "      <th></th>\n",
       "      <th></th>\n",
       "      <th></th>\n",
       "      <th></th>\n",
       "      <th></th>\n",
       "      <th></th>\n",
       "      <th></th>\n",
       "      <th></th>\n",
       "    </tr>\n",
       "  </thead>\n",
       "  <tbody>\n",
       "    <tr>\n",
       "      <th>kLaWsnhh78I</th>\n",
       "      <td>20.0</td>\n",
       "      <td>30.0</td>\n",
       "      <td>/m/04szw</td>\n",
       "      <td>16069_kLaWsnhh78I.mat</td>\n",
       "      <td>42.671417</td>\n",
       "      <td>Musical instrument</td>\n",
       "      <td>1</td>\n",
       "      <td>2</td>\n",
       "    </tr>\n",
       "    <tr>\n",
       "      <th>sfmAeijj5cM</th>\n",
       "      <td>30.0</td>\n",
       "      <td>40.0</td>\n",
       "      <td>/m/04szw</td>\n",
       "      <td>18382_sfmAeijj5cM.mat</td>\n",
       "      <td>42.671417</td>\n",
       "      <td>Musical instrument</td>\n",
       "      <td>1</td>\n",
       "      <td>2</td>\n",
       "    </tr>\n",
       "    <tr>\n",
       "      <th>DLJGT99uEh4</th>\n",
       "      <td>30.0</td>\n",
       "      <td>40.0</td>\n",
       "      <td>/m/04szw</td>\n",
       "      <td>5336_DLJGT99uEh4.mat</td>\n",
       "      <td>42.671417</td>\n",
       "      <td>Musical instrument</td>\n",
       "      <td>1</td>\n",
       "      <td>0</td>\n",
       "    </tr>\n",
       "    <tr>\n",
       "      <th>-z4OZ7ls5Bo</th>\n",
       "      <td>540.0</td>\n",
       "      <td>550.0</td>\n",
       "      <td>/m/04szw</td>\n",
       "      <td>386_-z4OZ7ls5Bo.mat</td>\n",
       "      <td>42.671417</td>\n",
       "      <td>Musical instrument</td>\n",
       "      <td>1</td>\n",
       "      <td>0</td>\n",
       "    </tr>\n",
       "    <tr>\n",
       "      <th>6Q5N1DfzGj0</th>\n",
       "      <td>230.0</td>\n",
       "      <td>240.0</td>\n",
       "      <td>/m/04szw</td>\n",
       "      <td>2692_6Q5N1DfzGj0.mat</td>\n",
       "      <td>42.671417</td>\n",
       "      <td>Musical instrument</td>\n",
       "      <td>1</td>\n",
       "      <td>1</td>\n",
       "    </tr>\n",
       "  </tbody>\n",
       "</table>\n",
       "</div>"
      ],
      "text/plain": [
       "             start_seconds  end_seconds       mid                   file  \\\n",
       "YTID                                                                       \n",
       "kLaWsnhh78I           20.0         30.0  /m/04szw  16069_kLaWsnhh78I.mat   \n",
       "sfmAeijj5cM           30.0         40.0  /m/04szw  18382_sfmAeijj5cM.mat   \n",
       "DLJGT99uEh4           30.0         40.0  /m/04szw   5336_DLJGT99uEh4.mat   \n",
       "-z4OZ7ls5Bo          540.0        550.0  /m/04szw    386_-z4OZ7ls5Bo.mat   \n",
       "6Q5N1DfzGj0          230.0        240.0  /m/04szw   2692_6Q5N1DfzGj0.mat   \n",
       "\n",
       "                  size          annotation  label  set  \n",
       "YTID                                                    \n",
       "kLaWsnhh78I  42.671417  Musical instrument      1    2  \n",
       "sfmAeijj5cM  42.671417  Musical instrument      1    2  \n",
       "DLJGT99uEh4  42.671417  Musical instrument      1    0  \n",
       "-z4OZ7ls5Bo  42.671417  Musical instrument      1    0  \n",
       "6Q5N1DfzGj0  42.671417  Musical instrument      1    1  "
      ]
     },
     "execution_count": 86,
     "metadata": {},
     "output_type": "execute_result"
    }
   ],
   "source": [
    "df_label1 = df_binary[df_binary.label==1]\n",
    "df_label1.head()"
   ]
  },
  {
   "cell_type": "markdown",
   "metadata": {
    "ExecuteTime": {
     "end_time": "2020-07-26T08:32:50.824822Z",
     "start_time": "2020-07-26T08:32:50.822320Z"
    }
   },
   "source": [
    "## Write m3u8 playlist"
   ]
  },
  {
   "cell_type": "code",
   "execution_count": 89,
   "metadata": {
    "ExecuteTime": {
     "end_time": "2020-07-26T09:08:01.087474Z",
     "start_time": "2020-07-26T09:08:01.072497Z"
    }
   },
   "outputs": [],
   "source": [
    "with open(\"Out/label1.m3u8\", \"w\") as w: \n",
    "    w.write(\"#EXTM3U\\n\") \n",
    "    \n",
    "    WAV_PATH = '/datasets/spiking/Sound2spks/wav_data'\n",
    "    for i, r in enumerate(df_label1.itertuples()):\n",
    "    #     print(r)\n",
    "    #     print(r.file)\n",
    "\n",
    "        filename = os.path.splitext(r.file)[0] + '.wav'\n",
    "        fullpath = os.path.join(WAV_PATH, filename)\n",
    "        assert os.path.exists(fullpath), filename\n",
    "\n",
    "        # Writing data to a file \n",
    "        w.write(f\"#EXTINF:10,{filename}\\n\") \n",
    "        w.write(f\"{fullpath}\\n\") "
   ]
  },
  {
   "cell_type": "markdown",
   "metadata": {
    "ExecuteTime": {
     "end_time": "2020-07-26T08:32:50.824822Z",
     "start_time": "2020-07-26T08:32:50.822320Z"
    }
   },
   "source": [
    "## Read filtered m3u8 playlist"
   ]
  },
  {
   "cell_type": "code",
   "execution_count": 91,
   "metadata": {
    "ExecuteTime": {
     "end_time": "2020-07-26T10:15:21.215436Z",
     "start_time": "2020-07-26T10:15:21.206154Z"
    }
   },
   "outputs": [
    {
     "name": "stdout",
     "output_type": "stream",
     "text": [
      "(201, 8) 179\n"
     ]
    }
   ],
   "source": [
    "with open('Out/label1_filtered_v1.m3u8', 'r') as r:\n",
    "        lines = r.readlines()[1:]\n",
    "        lines = lines[1::2]\n",
    "ixs1 = []\n",
    "for r in lines:\n",
    "    YTID = os.path.splitext('_'.join(os.path.basename(r).split('_')[1:]))[0]\n",
    "#     print(YTID)\n",
    "    ixs1.append(YTID)\n",
    "    \n",
    "print(df_label1.shape, len(ixs1))"
   ]
  },
  {
   "cell_type": "markdown",
   "metadata": {
    "ExecuteTime": {
     "end_time": "2020-07-26T09:03:04.041168Z",
     "start_time": "2020-07-26T09:03:04.037755Z"
    }
   },
   "source": [
    "# Apply Filter and Persist"
   ]
  },
  {
   "cell_type": "code",
   "execution_count": 99,
   "metadata": {
    "ExecuteTime": {
     "end_time": "2020-07-26T10:18:34.187989Z",
     "start_time": "2020-07-26T10:18:34.179052Z"
    }
   },
   "outputs": [],
   "source": [
    "#subsample to equalize classes\n",
    "ixs1 = list(df_binary.loc[ixs1, :].sample(n=len(ixs0), random_state=RANDOM_SEED).index)\n",
    "assert len(ixs0)==len(ixs1)"
   ]
  },
  {
   "cell_type": "code",
   "execution_count": 101,
   "metadata": {
    "ExecuteTime": {
     "end_time": "2020-07-26T10:18:48.712136Z",
     "start_time": "2020-07-26T10:18:48.702467Z"
    }
   },
   "outputs": [
    {
     "data": {
      "text/plain": [
       "(264, 8)"
      ]
     },
     "execution_count": 101,
     "metadata": {},
     "output_type": "execute_result"
    }
   ],
   "source": [
    "df_binary = df_binary.loc[ixs0+ixs1, :]\n",
    "df_binary.shape"
   ]
  },
  {
   "cell_type": "code",
   "execution_count": 102,
   "metadata": {
    "ExecuteTime": {
     "end_time": "2020-07-26T10:18:53.416877Z",
     "start_time": "2020-07-26T10:18:53.289044Z"
    }
   },
   "outputs": [],
   "source": [
    "df_binary.to_csv('/datasets/spiking/Sound2spks/tempotron/eval_dataset_for_tempotron.v3.csv', index_label='YTID')"
   ]
  }
 ],
 "metadata": {
  "hide_input": false,
  "kernelspec": {
   "display_name": "Python 3",
   "language": "python",
   "name": "python3"
  },
  "language_info": {
   "codemirror_mode": {
    "name": "ipython",
    "version": 3
   },
   "file_extension": ".py",
   "mimetype": "text/x-python",
   "name": "python",
   "nbconvert_exporter": "python",
   "pygments_lexer": "ipython3",
   "version": "3.6.7"
  },
  "toc": {
   "base_numbering": 1,
   "nav_menu": {},
   "number_sections": true,
   "sideBar": true,
   "skip_h1_title": false,
   "title_cell": "Table of Contents",
   "title_sidebar": "Contents",
   "toc_cell": false,
   "toc_position": {},
   "toc_section_display": true,
   "toc_window_display": false
  }
 },
 "nbformat": 4,
 "nbformat_minor": 1
}
