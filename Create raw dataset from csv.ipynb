{
 "cells": [
  {
   "cell_type": "markdown",
   "metadata": {},
   "source": [
    "Load CSV and copy files to raw dirs"
   ]
  },
  {
   "cell_type": "code",
   "execution_count": 1,
   "metadata": {
    "ExecuteTime": {
     "end_time": "2020-07-28T13:34:18.947557Z",
     "start_time": "2020-07-28T13:34:18.593709Z"
    }
   },
   "outputs": [],
   "source": [
    "import pandas as pd\n",
    "import numpy as np\n",
    "\n",
    "import os\n",
    "import re\n",
    "from pathlib import Path\n",
    "from tqdm.auto import tqdm\n",
    "import shutil\n",
    "\n",
    "RANDOM_SEED = 90210"
   ]
  },
  {
   "cell_type": "code",
   "execution_count": 15,
   "metadata": {
    "ExecuteTime": {
     "end_time": "2020-07-28T13:41:54.738086Z",
     "start_time": "2020-07-28T13:41:54.711484Z"
    }
   },
   "outputs": [
    {
     "data": {
      "text/html": [
       "<div>\n",
       "<style scoped>\n",
       "    .dataframe tbody tr th:only-of-type {\n",
       "        vertical-align: middle;\n",
       "    }\n",
       "\n",
       "    .dataframe tbody tr th {\n",
       "        vertical-align: top;\n",
       "    }\n",
       "\n",
       "    .dataframe thead th {\n",
       "        text-align: right;\n",
       "    }\n",
       "</style>\n",
       "<table border=\"1\" class=\"dataframe\">\n",
       "  <thead>\n",
       "    <tr style=\"text-align: right;\">\n",
       "      <th></th>\n",
       "      <th>start_seconds</th>\n",
       "      <th>end_seconds</th>\n",
       "      <th>mid</th>\n",
       "      <th>file</th>\n",
       "      <th>size</th>\n",
       "      <th>annotation</th>\n",
       "      <th>label</th>\n",
       "      <th>set</th>\n",
       "    </tr>\n",
       "    <tr>\n",
       "      <th>YTID</th>\n",
       "      <th></th>\n",
       "      <th></th>\n",
       "      <th></th>\n",
       "      <th></th>\n",
       "      <th></th>\n",
       "      <th></th>\n",
       "      <th></th>\n",
       "      <th></th>\n",
       "    </tr>\n",
       "  </thead>\n",
       "  <tbody>\n",
       "    <tr>\n",
       "      <th>-UTdhK0lwuw</th>\n",
       "      <td>30.0</td>\n",
       "      <td>40.0</td>\n",
       "      <td>/m/0838f</td>\n",
       "      <td>187_-UTdhK0lwuw.mat</td>\n",
       "      <td>47.410202</td>\n",
       "      <td>Water</td>\n",
       "      <td>0</td>\n",
       "      <td>2</td>\n",
       "    </tr>\n",
       "    <tr>\n",
       "      <th>Jlc4DETobHE</th>\n",
       "      <td>50.0</td>\n",
       "      <td>60.0</td>\n",
       "      <td>/m/0838f</td>\n",
       "      <td>7497_Jlc4DETobHE.mat</td>\n",
       "      <td>47.410202</td>\n",
       "      <td>Water</td>\n",
       "      <td>0</td>\n",
       "      <td>2</td>\n",
       "    </tr>\n",
       "    <tr>\n",
       "      <th>N7MQjLZYJKc</th>\n",
       "      <td>10.0</td>\n",
       "      <td>20.0</td>\n",
       "      <td>/m/0838f</td>\n",
       "      <td>8582_N7MQjLZYJKc.mat</td>\n",
       "      <td>47.410202</td>\n",
       "      <td>Water</td>\n",
       "      <td>0</td>\n",
       "      <td>1</td>\n",
       "    </tr>\n",
       "    <tr>\n",
       "      <th>m8JVAsG1vp0</th>\n",
       "      <td>40.0</td>\n",
       "      <td>50.0</td>\n",
       "      <td>/m/0838f</td>\n",
       "      <td>16571_m8JVAsG1vp0.mat</td>\n",
       "      <td>47.410202</td>\n",
       "      <td>Water</td>\n",
       "      <td>0</td>\n",
       "      <td>1</td>\n",
       "    </tr>\n",
       "    <tr>\n",
       "      <th>5gFmWJBNd9o</th>\n",
       "      <td>560.0</td>\n",
       "      <td>570.0</td>\n",
       "      <td>/m/0838f</td>\n",
       "      <td>2446_5gFmWJBNd9o.mat</td>\n",
       "      <td>47.410202</td>\n",
       "      <td>Water</td>\n",
       "      <td>0</td>\n",
       "      <td>2</td>\n",
       "    </tr>\n",
       "  </tbody>\n",
       "</table>\n",
       "</div>"
      ],
      "text/plain": [
       "             start_seconds  end_seconds       mid                   file  \\\n",
       "YTID                                                                       \n",
       "-UTdhK0lwuw           30.0         40.0  /m/0838f    187_-UTdhK0lwuw.mat   \n",
       "Jlc4DETobHE           50.0         60.0  /m/0838f   7497_Jlc4DETobHE.mat   \n",
       "N7MQjLZYJKc           10.0         20.0  /m/0838f   8582_N7MQjLZYJKc.mat   \n",
       "m8JVAsG1vp0           40.0         50.0  /m/0838f  16571_m8JVAsG1vp0.mat   \n",
       "5gFmWJBNd9o          560.0        570.0  /m/0838f   2446_5gFmWJBNd9o.mat   \n",
       "\n",
       "                  size annotation  label  set  \n",
       "YTID                                           \n",
       "-UTdhK0lwuw  47.410202      Water      0    2  \n",
       "Jlc4DETobHE  47.410202      Water      0    2  \n",
       "N7MQjLZYJKc  47.410202      Water      0    1  \n",
       "m8JVAsG1vp0  47.410202      Water      0    1  \n",
       "5gFmWJBNd9o  47.410202      Water      0    2  "
      ]
     },
     "execution_count": 15,
     "metadata": {},
     "output_type": "execute_result"
    }
   ],
   "source": [
    "df_binary = pd.read_csv('/datasets/spiking/Sound2spks/tempotron/eval_dataset_for_tempotron.v4.csv', index_col='YTID')\n",
    "df_binary.head()"
   ]
  },
  {
   "cell_type": "code",
   "execution_count": 4,
   "metadata": {
    "ExecuteTime": {
     "end_time": "2020-07-28T13:35:33.236659Z",
     "start_time": "2020-07-28T13:35:33.220651Z"
    }
   },
   "outputs": [
    {
     "name": "stdout",
     "output_type": "stream",
     "text": [
      "<class 'pandas.core.frame.DataFrame'>\n",
      "Index: 264 entries, -UTdhK0lwuw to 3MUeg3nD2OU\n",
      "Data columns (total 8 columns):\n",
      "start_seconds    264 non-null float64\n",
      "end_seconds      264 non-null float64\n",
      "mid              264 non-null object\n",
      "file             264 non-null object\n",
      "size             264 non-null float64\n",
      "annotation       264 non-null object\n",
      "label            264 non-null int64\n",
      "set              264 non-null int64\n",
      "dtypes: float64(3), int64(2), object(3)\n",
      "memory usage: 18.6+ KB\n"
     ]
    }
   ],
   "source": [
    "df_binary.info()\n"
   ]
  },
  {
   "cell_type": "code",
   "execution_count": 5,
   "metadata": {
    "ExecuteTime": {
     "end_time": "2020-07-28T13:35:46.441916Z",
     "start_time": "2020-07-28T13:35:46.105169Z"
    }
   },
   "outputs": [
    {
     "data": {
      "application/vnd.jupyter.widget-view+json": {
       "model_id": "09eb91ba95f0488cad0e22d9bf07b02d",
       "version_major": 2,
       "version_minor": 0
      },
      "text/plain": [
       "HBox(children=(IntProgress(value=0, max=264), HTML(value='')))"
      ]
     },
     "metadata": {},
     "output_type": "display_data"
    },
    {
     "name": "stdout",
     "output_type": "stream",
     "text": [
      "\n"
     ]
    }
   ],
   "source": [
    "src_dir = \"/datasets/spiking/Sound2spks/result_mats/\"\n",
    "dest_dir = \"/datasets/spiking/Sound2spks/tempotron/raw/v4/62x121/\"\n",
    "\n",
    "assert os.path.isdir(os.path.join(dest_dir, '0'))\n",
    "assert os.path.isdir(os.path.join(dest_dir, '1'))\n",
    "\n",
    "with tqdm(total=df_binary.shape[0]) as t:\n",
    "    for tup in df_binary.itertuples():\n",
    "        f = tup.file\n",
    "        label = tup.label\n",
    "        \n",
    "        t.set_description(os.path.join(str(label), f))\n",
    "        t.update()\n",
    "                \n",
    "#         print(f, end=\",\")\n",
    "        src = Path(src_dir, f)\n",
    "        dest = Path(dest_dir, str(label), f)\n",
    "        \n",
    "        shutil.copyfile(src, dest)"
   ]
  },
  {
   "cell_type": "code",
   "execution_count": 14,
   "metadata": {
    "ExecuteTime": {
     "end_time": "2020-07-28T13:39:19.218160Z",
     "start_time": "2020-07-28T13:39:19.057834Z"
    }
   },
   "outputs": [
    {
     "name": "stdout",
     "output_type": "stream",
     "text": [
      "/datasets/spiking/Sound2spks/tempotron/raw/v4/62x121/: 0\r\n",
      "/datasets/spiking/Sound2spks/tempotron/raw/v4/62x121/1: 132\r\n",
      "/datasets/spiking/Sound2spks/tempotron/raw/v4/62x121/0: 132\r\n"
     ]
    }
   ],
   "source": [
    "!find \"/datasets/spiking/Sound2spks/tempotron/raw/v4/62x121/\" -type d -exec sh -c \\ 'printf -- \"%-20s: \" {}; find {} -maxdepth 1 -type f -name \"*.mat\" -printf \"%i\\n\" | wc -l' \\;"
   ]
  }
 ],
 "metadata": {
  "hide_input": false,
  "kernelspec": {
   "display_name": "Python 3",
   "language": "python",
   "name": "python3"
  },
  "language_info": {
   "codemirror_mode": {
    "name": "ipython",
    "version": 3
   },
   "file_extension": ".py",
   "mimetype": "text/x-python",
   "name": "python",
   "nbconvert_exporter": "python",
   "pygments_lexer": "ipython3",
   "version": "3.6.8"
  },
  "toc": {
   "base_numbering": 1,
   "nav_menu": {},
   "number_sections": true,
   "sideBar": true,
   "skip_h1_title": false,
   "title_cell": "Table of Contents",
   "title_sidebar": "Contents",
   "toc_cell": false,
   "toc_position": {},
   "toc_section_display": true,
   "toc_window_display": false
  }
 },
 "nbformat": 4,
 "nbformat_minor": 1
}
