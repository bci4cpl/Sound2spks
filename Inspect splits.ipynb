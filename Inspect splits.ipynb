{
 "cells": [
  {
   "cell_type": "code",
   "execution_count": 1,
   "metadata": {
    "ExecuteTime": {
     "end_time": "2020-07-27T13:27:59.836739Z",
     "start_time": "2020-07-27T13:27:59.467127Z"
    }
   },
   "outputs": [],
   "source": [
    "import pandas as pd\n",
    "import numpy as np\n",
    "\n",
    "import os\n",
    "import re\n",
    "from pathlib import Path\n",
    "from tqdm.auto import tqdm\n",
    "import shutil\n",
    "\n",
    "RANDOM_SEED = 90210"
   ]
  },
  {
   "cell_type": "markdown",
   "metadata": {},
   "source": [
    "# Inspect Splits"
   ]
  },
  {
   "cell_type": "code",
   "execution_count": 2,
   "metadata": {
    "ExecuteTime": {
     "end_time": "2020-07-27T13:28:00.084812Z",
     "start_time": "2020-07-27T13:28:00.051037Z"
    }
   },
   "outputs": [
    {
     "data": {
      "text/html": [
       "<div>\n",
       "<style scoped>\n",
       "    .dataframe tbody tr th:only-of-type {\n",
       "        vertical-align: middle;\n",
       "    }\n",
       "\n",
       "    .dataframe tbody tr th {\n",
       "        vertical-align: top;\n",
       "    }\n",
       "\n",
       "    .dataframe thead th {\n",
       "        text-align: right;\n",
       "    }\n",
       "</style>\n",
       "<table border=\"1\" class=\"dataframe\">\n",
       "  <thead>\n",
       "    <tr style=\"text-align: right;\">\n",
       "      <th></th>\n",
       "      <th>start_seconds</th>\n",
       "      <th>end_seconds</th>\n",
       "      <th>mid</th>\n",
       "      <th>file</th>\n",
       "      <th>size</th>\n",
       "      <th>annotation</th>\n",
       "      <th>label</th>\n",
       "      <th>set</th>\n",
       "    </tr>\n",
       "    <tr>\n",
       "      <th>YTID</th>\n",
       "      <th></th>\n",
       "      <th></th>\n",
       "      <th></th>\n",
       "      <th></th>\n",
       "      <th></th>\n",
       "      <th></th>\n",
       "      <th></th>\n",
       "      <th></th>\n",
       "    </tr>\n",
       "  </thead>\n",
       "  <tbody>\n",
       "    <tr>\n",
       "      <th>-UTdhK0lwuw</th>\n",
       "      <td>30.0</td>\n",
       "      <td>40.0</td>\n",
       "      <td>/m/0838f</td>\n",
       "      <td>187_-UTdhK0lwuw.mat</td>\n",
       "      <td>47.410202</td>\n",
       "      <td>Water</td>\n",
       "      <td>0</td>\n",
       "      <td>2</td>\n",
       "    </tr>\n",
       "    <tr>\n",
       "      <th>Jlc4DETobHE</th>\n",
       "      <td>50.0</td>\n",
       "      <td>60.0</td>\n",
       "      <td>/m/0838f</td>\n",
       "      <td>7497_Jlc4DETobHE.mat</td>\n",
       "      <td>47.410202</td>\n",
       "      <td>Water</td>\n",
       "      <td>0</td>\n",
       "      <td>2</td>\n",
       "    </tr>\n",
       "    <tr>\n",
       "      <th>N7MQjLZYJKc</th>\n",
       "      <td>10.0</td>\n",
       "      <td>20.0</td>\n",
       "      <td>/m/0838f</td>\n",
       "      <td>8582_N7MQjLZYJKc.mat</td>\n",
       "      <td>47.410202</td>\n",
       "      <td>Water</td>\n",
       "      <td>0</td>\n",
       "      <td>1</td>\n",
       "    </tr>\n",
       "    <tr>\n",
       "      <th>m8JVAsG1vp0</th>\n",
       "      <td>40.0</td>\n",
       "      <td>50.0</td>\n",
       "      <td>/m/0838f</td>\n",
       "      <td>16571_m8JVAsG1vp0.mat</td>\n",
       "      <td>47.410202</td>\n",
       "      <td>Water</td>\n",
       "      <td>0</td>\n",
       "      <td>1</td>\n",
       "    </tr>\n",
       "    <tr>\n",
       "      <th>5gFmWJBNd9o</th>\n",
       "      <td>560.0</td>\n",
       "      <td>570.0</td>\n",
       "      <td>/m/0838f</td>\n",
       "      <td>2446_5gFmWJBNd9o.mat</td>\n",
       "      <td>47.410202</td>\n",
       "      <td>Water</td>\n",
       "      <td>0</td>\n",
       "      <td>2</td>\n",
       "    </tr>\n",
       "  </tbody>\n",
       "</table>\n",
       "</div>"
      ],
      "text/plain": [
       "             start_seconds  end_seconds       mid                   file  \\\n",
       "YTID                                                                       \n",
       "-UTdhK0lwuw           30.0         40.0  /m/0838f    187_-UTdhK0lwuw.mat   \n",
       "Jlc4DETobHE           50.0         60.0  /m/0838f   7497_Jlc4DETobHE.mat   \n",
       "N7MQjLZYJKc           10.0         20.0  /m/0838f   8582_N7MQjLZYJKc.mat   \n",
       "m8JVAsG1vp0           40.0         50.0  /m/0838f  16571_m8JVAsG1vp0.mat   \n",
       "5gFmWJBNd9o          560.0        570.0  /m/0838f   2446_5gFmWJBNd9o.mat   \n",
       "\n",
       "                  size annotation  label  set  \n",
       "YTID                                           \n",
       "-UTdhK0lwuw  47.410202      Water      0    2  \n",
       "Jlc4DETobHE  47.410202      Water      0    2  \n",
       "N7MQjLZYJKc  47.410202      Water      0    1  \n",
       "m8JVAsG1vp0  47.410202      Water      0    1  \n",
       "5gFmWJBNd9o  47.410202      Water      0    2  "
      ]
     },
     "execution_count": 2,
     "metadata": {},
     "output_type": "execute_result"
    }
   ],
   "source": [
    "# df_binary = pd.read_csv('/datasets/spiking/Sound2spks/tempotron/eval_dataset_for_tempotron.v1.csv', index_col='YTID')\n",
    "# df_binary = pd.read_csv('/datasets/spiking/Sound2spks/tempotron/eval_dataset_for_tempotron.v2.csv', index_col='YTID')\n",
    "df_binary = pd.read_csv('/datasets/spiking/Sound2spks/tempotron/eval_dataset_for_tempotron.v3.csv', index_col='YTID')\n",
    "df_binary.head()"
   ]
  },
  {
   "cell_type": "code",
   "execution_count": 3,
   "metadata": {
    "ExecuteTime": {
     "end_time": "2020-07-27T13:28:00.439848Z",
     "start_time": "2020-07-27T13:28:00.430406Z"
    }
   },
   "outputs": [
    {
     "data": {
      "text/plain": [
       "1    132\n",
       "0    132\n",
       "Name: label, dtype: int64"
      ]
     },
     "execution_count": 3,
     "metadata": {},
     "output_type": "execute_result"
    }
   ],
   "source": [
    "df_binary['label'].value_counts()"
   ]
  },
  {
   "cell_type": "code",
   "execution_count": 4,
   "metadata": {
    "ExecuteTime": {
     "end_time": "2020-07-27T13:28:07.857088Z",
     "start_time": "2020-07-27T13:28:07.845791Z"
    }
   },
   "outputs": [
    {
     "data": {
      "text/plain": [
       "0    178\n",
       "2     50\n",
       "1     36\n",
       "Name: set, dtype: int64"
      ]
     },
     "execution_count": 4,
     "metadata": {},
     "output_type": "execute_result"
    }
   ],
   "source": [
    "df_binary['set'].value_counts()"
   ]
  },
  {
   "cell_type": "code",
   "execution_count": 5,
   "metadata": {
    "ExecuteTime": {
     "end_time": "2020-07-27T13:28:08.121901Z",
     "start_time": "2020-07-27T13:28:08.108217Z"
    }
   },
   "outputs": [
    {
     "data": {
      "text/plain": [
       "label  set\n",
       "0      0      88\n",
       "       1      19\n",
       "       2      25\n",
       "1      0      90\n",
       "       1      17\n",
       "       2      25\n",
       "dtype: int64"
      ]
     },
     "execution_count": 5,
     "metadata": {},
     "output_type": "execute_result"
    }
   ],
   "source": [
    "#ensure stratified\n",
    "df_binary.groupby(['label', 'set']).size()"
   ]
  },
  {
   "cell_type": "code",
   "execution_count": 6,
   "metadata": {
    "ExecuteTime": {
     "end_time": "2020-07-27T13:44:03.512913Z",
     "start_time": "2020-07-27T13:44:03.506265Z"
    }
   },
   "outputs": [
    {
     "data": {
      "text/plain": [
       "534"
      ]
     },
     "execution_count": 6,
     "metadata": {},
     "output_type": "execute_result"
    }
   ],
   "source": [
    "178*3"
   ]
  },
  {
   "cell_type": "code",
   "execution_count": null,
   "metadata": {},
   "outputs": [],
   "source": []
  }
 ],
 "metadata": {
  "hide_input": false,
  "kernelspec": {
   "display_name": "Python 3",
   "language": "python",
   "name": "python3"
  },
  "language_info": {
   "codemirror_mode": {
    "name": "ipython",
    "version": 3
   },
   "file_extension": ".py",
   "mimetype": "text/x-python",
   "name": "python",
   "nbconvert_exporter": "python",
   "pygments_lexer": "ipython3",
   "version": "3.6.8"
  },
  "toc": {
   "base_numbering": 1,
   "nav_menu": {},
   "number_sections": true,
   "sideBar": true,
   "skip_h1_title": false,
   "title_cell": "Table of Contents",
   "title_sidebar": "Contents",
   "toc_cell": false,
   "toc_position": {},
   "toc_section_display": true,
   "toc_window_display": false
  }
 },
 "nbformat": 4,
 "nbformat_minor": 1
}
